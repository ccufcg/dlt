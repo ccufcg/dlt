{
 "cells": [
  {
   "cell_type": "markdown",
   "id": "7e0248e8",
   "metadata": {},
   "source": [
    "# ⚠️ Ataque de Segunda Pré-imagem em uma Merkle Tree\n",
    "\n",
    "Nesta seção, vamos **ilustrar o que acontece quando alguém tenta substituir um bloco de dados por outro diferente**, mas que tenha o **mesmo hash**. Essa é a ideia de um **ataque de segunda pré-imagem**.\n",
    "\n",
    "Em Merkle Trees, a segurança depende da **impossibilidade prática** de encontrar duas entradas diferentes que resultem no mesmo hash.\n"
   ]
  },
  {
   "cell_type": "code",
   "execution_count": null,
   "id": "49471277",
   "metadata": {},
   "outputs": [],
   "source": [
    "import hashlib\n",
    "import math\n",
    "\n",
    "# Função de hash SHA-256\n",
    "def sha256(data):\n",
    "    if isinstance(data, str):\n",
    "        data = data.encode('utf-8')\n",
    "    return hashlib.sha256(data).hexdigest()\n"
   ]
  },
  {
   "cell_type": "code",
   "execution_count": null,
   "id": "333eac10",
   "metadata": {},
   "outputs": [],
   "source": [
    "class MerkleTree:\n",
    "    def __init__(self, data_blocks):\n",
    "        self.data_blocks = data_blocks\n",
    "        self.levels = []\n",
    "        self.build_tree()\n",
    "\n",
    "    def build_tree(self):\n",
    "        leaves = [sha256(block) for block in self.data_blocks]\n",
    "        self.levels.append(leaves)\n",
    "        current_level = leaves\n",
    "        while len(current_level) > 1:\n",
    "            next_level = []\n",
    "            for i in range(0, len(current_level), 2):\n",
    "                left = current_level[i]\n",
    "                right = current_level[i+1] if i+1 < len(current_level) else left\n",
    "                next_level.append(sha256(left + right))\n",
    "            self.levels.append(next_level)\n",
    "            current_level = next_level\n",
    "\n",
    "    def root(self):\n",
    "        return self.levels[-1][0] if self.levels else None\n",
    "\n",
    "    def print_tree(self):\n",
    "        for i, level in enumerate(self.levels):\n",
    "            if i == len(self.levels) -1:\n",
    "                print(f\"Raiz :\")\n",
    "            else:\n",
    "                print(f\"Nível {i}:\")\n",
    "            for node in level:\n",
    "                print(f\"  {node}\")\n"
   ]
  },
  {
   "cell_type": "code",
   "execution_count": null,
   "id": "9184c3fc",
   "metadata": {},
   "outputs": [],
   "source": [
    "from copy import deepcopy\n",
    "\n",
    "data = [\"bloco A\", \"bloco B\", \"bloco C\", \"bloco D\"]\n",
    "tree_original = MerkleTree(data)\n",
    "raiz_original = tree_original.root()\n",
    "\n",
    "print(\"Raiz original da Merkle Tree:\", raiz_original)"
   ]
  },
  {
   "cell_type": "markdown",
   "id": "d78011d6",
   "metadata": {},
   "source": [
    "Tentativa de segunda pré-imagem: substituímos \"bloco C\" por \"bloco X\""
   ]
  },
  {
   "cell_type": "code",
   "execution_count": null,
   "id": "d2c7f7fd",
   "metadata": {},
   "outputs": [],
   "source": [
    "data_troca = deepcopy(data)\n",
    "data_troca[2] = \"bloco X\"  # índice 2 corresponde a \"bloco C\"\n",
    "data_troca"
   ]
  },
  {
   "cell_type": "code",
   "execution_count": null,
   "id": "ee092399",
   "metadata": {},
   "outputs": [],
   "source": [
    "tree_alterada = MerkleTree(data_troca)\n",
    "raiz_falsa = tree_alterada.root()\n",
    "\n",
    "print(\"Nova raiz após substituição:\", raiz_falsa)\n",
    "print(\"Hashs são iguais?\", raiz_original == raiz_falsa)\n"
   ]
  },
  {
   "cell_type": "markdown",
   "id": "16676736",
   "metadata": {},
   "source": [
    "Mesmo substituindo um único bloco na árvore, a **raiz da Merkle Tree muda completamente**.\n",
    "\n",
    "Isso mostra por que Merkle Trees são úteis para verificar integridade: **qualquer modificação nos dados altera a raiz**, e como o SHA-256 é resistente a segunda pré-imagem, **não é possível forjar um novo bloco que gere a mesma raiz**.\n"
   ]
  },
  {
   "attachments": {
    "image.png": {
     "image/png": "[encoded data removed]"
    }
   },
   "cell_type": "markdown",
   "id": "39e59420",
   "metadata": {},
   "source": [
    "⚠️ Porém é possivel realizar um Second Preimage Attack com sucesso se você passar outros elementos de prova\n",
    "\n",
    "![image.png](attachment:image.png)"
   ]
  }
 ],
 "metadata": {
  "kernelspec": {
   "display_name": ".venv",
   "language": "python",
   "name": "python3"
  },
  "language_info": {
   "codemirror_mode": {
    "name": "ipython",
    "version": 3
   },
   "file_extension": ".py",
   "mimetype": "text/x-python",
   "name": "python",
   "nbconvert_exporter": "python",
   "pygments_lexer": "ipython3",
   "version": "3.12.3"
  }
 },
 "nbformat": 4,
 "nbformat_minor": 5
}
