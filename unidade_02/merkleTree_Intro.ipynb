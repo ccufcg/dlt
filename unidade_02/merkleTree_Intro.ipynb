{
 "cells": [
  {
   "cell_type": "markdown",
   "id": "562d22e8",
   "metadata": {},
   "source": [
    "# 🌳 Merkle Tree\n",
    "\n",
    "Notebook com conceitos de:\n",
    "- Merkle Tree (Árvore de Merkle)\n",
    "- Merkle Proof (Prova de inclusão)\n",
    "\n",
    "Utilizaremos apenas `Python` e a função `sha256` da biblioteca `hashlib`.\n"
   ]
  },
  {
   "cell_type": "code",
   "execution_count": null,
   "id": "bbdfbf18",
   "metadata": {},
   "outputs": [],
   "source": [
    "import hashlib\n",
    "import math\n",
    "\n",
    "# Função de hash SHA-256\n",
    "def sha256(data):\n",
    "    if isinstance(data, str):\n",
    "        data = data.encode('utf-8')\n",
    "    return hashlib.sha256(data).hexdigest()\n"
   ]
  },
  {
   "cell_type": "code",
   "execution_count": null,
   "id": "a874c1ca",
   "metadata": {},
   "outputs": [],
   "source": [
    "class MerkleTree:\n",
    "    def __init__(self, data_blocks):\n",
    "        self.data_blocks = data_blocks\n",
    "        self.levels = []\n",
    "        self.build_tree()\n",
    "\n",
    "    def build_tree(self):\n",
    "        leaves = [sha256(block) for block in self.data_blocks]\n",
    "        self.levels.append(leaves)\n",
    "        current_level = leaves\n",
    "        while len(current_level) > 1:\n",
    "            next_level = []\n",
    "            for i in range(0, len(current_level), 2):\n",
    "                left = current_level[i]\n",
    "                right = current_level[i+1] if i+1 < len(current_level) else left\n",
    "                next_level.append(sha256(left + right))\n",
    "            self.levels.append(next_level)\n",
    "            current_level = next_level\n",
    "\n",
    "    def root(self):\n",
    "        return self.levels[-1][0] if self.levels else None\n",
    "\n",
    "    def print_tree(self):\n",
    "        for i, level in enumerate(self.levels):\n",
    "            if i == len(self.levels) -1:\n",
    "                print(f\"Raiz :\")\n",
    "            else:\n",
    "                print(f\"Nível {i}:\")\n",
    "            for node in level:\n",
    "                print(f\"  {node}\")\n"
   ]
  },
  {
   "cell_type": "markdown",
   "id": "3ad0e1dd",
   "metadata": {},
   "source": [
    "## 🌿 Exemplo: Construindo uma Merkle Tree simples"
   ]
  },
  {
   "cell_type": "code",
   "execution_count": null,
   "id": "4204ef14",
   "metadata": {},
   "outputs": [],
   "source": [
    "data = [\"bloco A\", \"bloco B\", \"bloco C\", \"bloco D\"]\n",
    "tree = MerkleTree(data)\n",
    "tree.print_tree()\n"
   ]
  },
  {
   "cell_type": "markdown",
   "id": "69abce46",
   "metadata": {},
   "source": [
    "## 🔎 Merkle Proof: Verificando se um bloco pertence à árvore"
   ]
  },
  {
   "cell_type": "code",
   "execution_count": null,
   "id": "e4ccf72a",
   "metadata": {},
   "outputs": [],
   "source": [
    "def get_merkle_proof(tree:MerkleTree, index):\n",
    "    proof = []\n",
    "    for level in tree.levels[:-1]:\n",
    "        irmao = index ^ 1  # pega o vizinho (xor, bit flip)\n",
    "        if irmao < len(level):\n",
    "            proof.append(level[irmao])\n",
    "        index //= 2\n",
    "    return proof\n",
    "\n",
    "def verify_merkle_proof(leaf_hash, proof, root_hash, index):\n",
    "    current_hash = leaf_hash\n",
    "    for sibling in proof:\n",
    "        if index % 2 == 0:\n",
    "            current_hash = sha256(current_hash + sibling)\n",
    "        else:\n",
    "            current_hash = sha256(sibling + current_hash)\n",
    "        index //= 2\n",
    "    return current_hash == root_hash\n"
   ]
  },
  {
   "cell_type": "code",
   "execution_count": null,
   "id": "15fd151f",
   "metadata": {},
   "outputs": [],
   "source": [
    "leaf_index = 2  # \"bloco C\"\n",
    "leaf_hash = sha256(data[leaf_index])\n",
    "print(\"no [{}] : {}\".format(data[leaf_index], leaf_hash))"
   ]
  },
  {
   "cell_type": "code",
   "execution_count": null,
   "id": "b5f8e163",
   "metadata": {},
   "outputs": [],
   "source": [
    "proof = get_merkle_proof(tree, leaf_index)\n",
    "proof"
   ]
  },
  {
   "cell_type": "code",
   "execution_count": null,
   "id": "1ad225e9",
   "metadata": {},
   "outputs": [],
   "source": [
    "verify_merkle_proof(leaf_hash, proof, tree.root(), leaf_index)"
   ]
  },
  {
   "cell_type": "markdown",
   "id": "38e3754c",
   "metadata": {},
   "source": [
    "um bloco não existente"
   ]
  },
  {
   "cell_type": "code",
   "execution_count": null,
   "id": "ccf222d8",
   "metadata": {},
   "outputs": [],
   "source": [
    "proof = get_merkle_proof(tree, leaf_index)\n",
    "verify_merkle_proof(sha256(\"bloco Z\"), proof, tree.root(), leaf_index)"
   ]
  }
 ],
 "metadata": {
  "kernelspec": {
   "display_name": ".venv",
   "language": "python",
   "name": "python3"
  },
  "language_info": {
   "codemirror_mode": {
    "name": "ipython",
    "version": 3
   },
   "file_extension": ".py",
   "mimetype": "text/x-python",
   "name": "python",
   "nbconvert_exporter": "python",
   "pygments_lexer": "ipython3",
   "version": "3.12.3"
  }
 },
 "nbformat": 4,
 "nbformat_minor": 5
}
