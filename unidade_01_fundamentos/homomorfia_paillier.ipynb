{
 "cells": [
  {
   "cell_type": "markdown",
   "metadata": {},
   "source": [
    "# Criptografia Homomórfica com Paillier"
   ]
  },
  {
   "cell_type": "markdown",
   "metadata": {},
   "source": [
    "1. [Introdução à Criptografia Homomórfica](#introdução-à-criptografia-homomórfica)\n",
    "1. [O esquema](#o-esquema-paillier)\n",
    "1. [Implementação](#implementação-do-esquema-paillier)\n",
    "1. [Oprações Homomórficas](#operações-homomórficas)\n",
    "1. [Aplicações](#aplicações)\n"
   ]
  },
  {
   "cell_type": "markdown",
   "metadata": {},
   "source": [
    "## Introdução à Criptografia Homomórfica"
   ]
  },
  {
   "cell_type": "markdown",
   "metadata": {},
   "source": [
    "A **criptografia homomórfica** é um tipo especial de criptografia que permite realizar operações matemáticas diretamente sobre dados criptografados, sem a necessidade de descriptografá-los primeiro.\n",
    "\n",
    "### 1.1 Propriedade Homomórfica\n",
    "\n",
    "Para um esquema de criptografia ser homomórfico, ele deve satisfazer:\n",
    "\n",
    "$$E(m_1 \\oplus m_2) = E(m_1) \\odot E(m_2)$$\n",
    "\n",
    "Onde:\n",
    "- $E()$ é a função de criptografia\n",
    "- $m_1, m_2$ são mensagens (dados originais)\n",
    "- $\\oplus$ é uma operação no espaço das mensagens\n",
    "- $\\odot$ é uma operação no espaço dos dados criptografados\n",
    "\n",
    "### 1.2 Tipos de Homomorfismo\n",
    "\n",
    "1. **Homomorfismo Aditivo**: $E(m_1 + m_2) = E(m_1) \\cdot E(m_2)$\n",
    "2. **Homomorfismo Multiplicativo**: $E(m_1 \\cdot m_2) = E(m_1) \\otimes E(m_2)$\n",
    "3. **Homomorfismo Total (FHE)**: Suporta ambas as operações"
   ]
  },
  {
   "cell_type": "markdown",
   "metadata": {},
   "source": [
    "## O Esquema Paillier"
   ]
  },
  {
   "cell_type": "markdown",
   "metadata": {},
   "source": [
    "\n",
    "\n",
    "O esquema **Paillier** é um sistema de criptografia assimétrica que possui propriedades homomórficas **aditivas**.\n",
    "\n",
    "### 2.1 Propriedades Matemáticas\n",
    "\n",
    "O esquema Paillier satisfaz:\n",
    "\n",
    "$$E(m_1 + m_2) = E(m_1) \\times E(m_2) \\bmod n^2$$\n",
    "\n",
    "$$E(k \\cdot m) = E(m)^k \\bmod n^2$$\n",
    "\n",
    "### 2.2 Parâmetros do Sistema\n",
    "\n",
    "- **Chave Pública**: $(n, g)$ onde $n = p \\cdot q$ e $g \\in \\mathbb{Z}_{n^2}^*$\n",
    "- **Chave Privada**: $(\\lambda, \\mu)$ onde:\n",
    "  - $\\lambda = \\text{lcm}(p-1, q-1)$\n",
    "  - $\\mu = (L(g^\\lambda \\bmod n^2))^{-1} \\bmod n$\n",
    "  - $L(x) = \\frac{x-1}{n}$\n",
    "\n",
    "### 2.3 Algoritmos\n",
    "\n",
    "**Criptografia:**\n",
    "$$c = g^m \\cdot r^n \\bmod n^2$$\n",
    "\n",
    "**Descriptografia:**\n",
    "$$m = L(c^\\lambda \\bmod n^2) \\cdot \\mu \\bmod n$$\n",
    "\n",
    "Onde $r$ é um número aleatório tal que $\\gcd(r,n) = 1$."
   ]
  },
  {
   "cell_type": "markdown",
   "metadata": {},
   "source": [
    "## Implementação do Esquema Paillier"
   ]
  },
  {
   "cell_type": "code",
   "execution_count": null,
   "metadata": {},
   "outputs": [],
   "source": [
    "import random\n",
    "import math\n",
    "from typing import Tuple\n",
    "import numpy as np\n"
   ]
  },
  {
   "cell_type": "markdown",
   "metadata": {},
   "source": [
    "### Funções auxiliares"
   ]
  },
  {
   "cell_type": "code",
   "execution_count": null,
   "metadata": {},
   "outputs": [],
   "source": [
    "    def _generate_prime(self, bits: int) -> int:\n",
    "        \"\"\"Gera um número primo com o número especificado de bits\"\"\"\n",
    "        while True:\n",
    "            # Gerar número ímpar aleatório\n",
    "            num = random.getrandbits(bits)\n",
    "            if num % 2 == 0:\n",
    "                num += 1\n",
    "            if self._is_prime(num):\n",
    "                return num\n",
    "    \n",
    "    def _is_prime(self, n: int, k: int = 5) -> bool:\n",
    "        \"\"\"Teste de primalidade de Miller-Rabin\"\"\"\n",
    "        if n < 2:\n",
    "            return False\n",
    "        if n == 2 or n == 3:\n",
    "            return True\n",
    "        if n % 2 == 0:\n",
    "            return False\n",
    "        \n",
    "        # Escrever n-1 como d × 2^r\n",
    "        r = 0\n",
    "        d = n - 1\n",
    "        while d % 2 == 0:\n",
    "            r += 1\n",
    "            d //= 2\n",
    "        \n",
    "        # Realizar k testes\n",
    "        for _ in range(k):\n",
    "            a = random.randrange(2, n - 1)\n",
    "            x = pow(a, d, n)\n",
    "            \n",
    "            if x == 1 or x == n - 1:\n",
    "                continue\n",
    "            \n",
    "            for _ in range(r - 1):\n",
    "                x = pow(x, 2, n)\n",
    "                if x == n - 1:\n",
    "                    break\n",
    "            else:\n",
    "                return False\n",
    "        \n",
    "        return True\n",
    "    \n",
    "    def _lcm(self, a: int, b: int) -> int:\n",
    "        \"\"\"Calcula o menor múltiplo comum\"\"\"\n",
    "        return abs(a * b) // math.gcd(a, b)\n",
    "    \n",
    "    def _mod_inverse(self, a: int, m: int) -> int:\n",
    "        \"\"\"Calcula o inverso modular usando algoritmo estendido de Euclides\"\"\"\n",
    "        if math.gcd(a, m) != 1:\n",
    "            raise ValueError(\"Inverso modular não existe\")\n",
    "        \n",
    "        def extended_gcd(a, b):\n",
    "            if a == 0:\n",
    "                return b, 0, 1\n",
    "            gcd, x1, y1 = extended_gcd(b % a, a)\n",
    "            x = y1 - (b // a) * x1\n",
    "            y = x1\n",
    "            return gcd, x, y\n",
    "        \n",
    "        _, x, _ = extended_gcd(a % m, m)\n",
    "        return (x % m + m) % m"
   ]
  },
  {
   "cell_type": "code",
   "execution_count": null,
   "metadata": {},
   "outputs": [],
   "source": [
    "##\n",
    "## Criptografar\n",
    "##\n",
    "def encrypt(self, message: int) -> int:\n",
    "    \"\"\"\n",
    "    Criptografa uma mensagem usando a chave pública\n",
    "    \n",
    "    Implementa: c = g^m × r^n mod n²\n",
    "    \n",
    "    Args:\n",
    "        message: Mensagem a ser criptografada (inteiro não-negativo)\n",
    "        \n",
    "    Returns:\n",
    "        Texto cifrado\n",
    "    \"\"\"\n",
    "    n, g = self.public_key\n",
    "    n_squared = n * n\n",
    "    \n",
    "    # Validar entrada\n",
    "    if message < 0 or message >= n:\n",
    "        raise ValueError(f\"Mensagem deve estar no intervalo [0, {n-1}]\")\n",
    "    \n",
    "    # Escolher r aleatório onde gcd(r, n) = 1\n",
    "    while True:\n",
    "        r = random.randrange(1, n)\n",
    "        if math.gcd(r, n) == 1:\n",
    "            break\n",
    "    \n",
    "    # Calcular c = g^m × r^n mod n²\n",
    "    ciphertext = (pow(g, message, n_squared) * pow(r, n, n_squared)) % n_squared\n",
    "    return ciphertext\n",
    "\n",
    "def decrypt(self, ciphertext: int) -> int:\n",
    "    \"\"\"\n",
    "    Descriptografa um texto cifrado usando a chave privada\n",
    "    \n",
    "    Implementa: m = L(c^λ mod n²) × μ mod n\n",
    "    onde L(x) = (x-1)/n\n",
    "    \n",
    "    Args:\n",
    "        ciphertext: Texto cifrado a ser descriptografado\n",
    "        \n",
    "    Returns:\n",
    "        Mensagem original\n",
    "    \"\"\"\n",
    "    lambda_n, mu, n = self.private_key\n",
    "    n_squared = n * n\n",
    "    \n",
    "    # Calcular c^λ mod n²\n",
    "    c_lambda = pow(ciphertext, lambda_n, n_squared)\n",
    "    \n",
    "    # Aplicar função L(x) = (x-1)/n\n",
    "    l_val = (c_lambda - 1) // n\n",
    "    \n",
    "    # Calcular m = L(c^λ mod n²) × μ mod n\n",
    "    message = (l_val * mu) % n\n",
    "    \n",
    "    return message"
   ]
  },
  {
   "cell_type": "markdown",
   "metadata": {},
   "source": [
    "### Crypto Sistema Paillier"
   ]
  },
  {
   "cell_type": "code",
   "execution_count": null,
   "metadata": {},
   "outputs": [],
   "source": [
    "class PaillierCryptosystem:\n",
    "    \"\"\"\n",
    "    Implementação do sistema criptográfico Paillier\n",
    "    \n",
    "    O esquema Paillier é baseado no problema da residuosidade quadrática composta\n",
    "    e oferece homomorfismo aditivo.\n",
    "    \"\"\"\n",
    "    \n",
    "    def __init__(self, key_size: int = 512):\n",
    "        \"\"\"\n",
    "        Inicializa o sistema criptográfico Paillier\n",
    "        \n",
    "        Args:\n",
    "            key_size: Tamanho da chave em bits\n",
    "        \"\"\"\n",
    "        self.key_size = key_size\n",
    "        self.public_key, self.private_key = self._generate_keys()\n",
    "        \n",
    "    def _generate_keys(self) -> Tuple[Tuple[int, int], Tuple[int, int, int]]:\n",
    "        \"\"\"\n",
    "        Gera as chaves pública e privada do esquema Paillier\n",
    "        \n",
    "        Returns:\n",
    "            Tupla contendo (chave_publica, chave_privada)\n",
    "            - chave_publica: (n, g)\n",
    "            - chave_privada: (lambda_n, mu, n)\n",
    "        \"\"\"\n",
    "        # Passo 1: Gerar dois números primos p e q de tamanho similar\n",
    "        p = self._generate_prime(self.key_size // 2)\n",
    "        q = self._generate_prime(self.key_size // 2)\n",
    "        \n",
    "        # Passo 2: Calcular n = p × q\n",
    "        n = p * q\n",
    "        \n",
    "        # Passo 3: Calcular λ = lcm(p-1, q-1)\n",
    "        lambda_n = self._lcm(p - 1, q - 1)\n",
    "        \n",
    "        # Passo 4: Escolher g = n + 1 (forma mais simples e segura)\n",
    "        g = n + 1\n",
    "        \n",
    "        # Passo 5: Calcular μ = (L(g^λ mod n²))^(-1) mod n\n",
    "        n_squared = n * n\n",
    "        gcd_val = pow(g, lambda_n, n_squared)\n",
    "        l_val = (gcd_val - 1) // n  # Função L(x) = (x-1)/n\n",
    "        mu = self._mod_inverse(l_val, n)\n",
    "        \n",
    "        # Retornar chaves\n",
    "        public_key = (n, g)\n",
    "        private_key = (lambda_n, mu, n)\n",
    "        \n",
    "        return public_key, private_key\n",
    "    \n",
    "# add métodos\n",
    "PaillierCryptosystem._generate_prime = _generate_prime\n",
    "PaillierCryptosystem._is_prime = _is_prime\n",
    "PaillierCryptosystem._lcm = _lcm\n",
    "PaillierCryptosystem._mod_inverse = _mod_inverse\n",
    "\n",
    "PaillierCryptosystem.encrypt = encrypt\n",
    "PaillierCryptosystem.decrypt = decrypt"
   ]
  },
  {
   "cell_type": "markdown",
   "metadata": {},
   "source": [
    "## Operações Homomórficas\n",
    "\n"
   ]
  },
  {
   "cell_type": "markdown",
   "metadata": {},
   "source": [
    "### 4.1 Soma Homomórfica\n",
    "\n",
    "A propriedade fundamental do Paillier é:\n",
    "\n",
    "$$E(m_1 + m_2) = E(m_1) \\times E(m_2) \\bmod n^2$$\n",
    "\n",
    "Isso significa que podemos somar dois números criptografados multiplicando seus valores cifrados!\n",
    "\n"
   ]
  },
  {
   "cell_type": "code",
   "execution_count": null,
   "metadata": {},
   "outputs": [],
   "source": [
    "def add_encrypted(self, c1: int, c2: int) -> int:\n",
    "    \"\"\"\n",
    "    Soma dois valores criptografados\n",
    "    \n",
    "    Implementa: E(m1 + m2) = E(m1) × E(m2) mod n²\n",
    "    \n",
    "    Args:\n",
    "        c1, c2: Valores criptografados a serem somados\n",
    "        \n",
    "    Returns:\n",
    "        E(m1 + m2): Resultado da soma (criptografado)\n",
    "    \"\"\"\n",
    "    n, _ = self.public_key\n",
    "    n_squared = n * n\n",
    "    \n",
    "    return (c1 * c2) % n_squared\n",
    "\n",
    "PaillierCryptosystem.add_encrypted = add_encrypted"
   ]
  },
  {
   "cell_type": "markdown",
   "metadata": {},
   "source": [
    "### 4.2 Multiplicação por Escalar\n",
    "\n",
    "Também podemos multiplicar um valor criptografado por uma constante:\n",
    "\n",
    "$$E(k \\times m) = E(m)^k \\bmod n^2$$"
   ]
  },
  {
   "cell_type": "code",
   "execution_count": null,
   "metadata": {},
   "outputs": [],
   "source": [
    "\n",
    "def multiply_by_constant(self, ciphertext: int, constant: int) -> int:\n",
    "    \"\"\"\n",
    "    Multiplica um valor criptografado por uma constante\n",
    "    \n",
    "    Implementa: E(k × m) = E(m)^k mod n²\n",
    "    \n",
    "    Args:\n",
    "        ciphertext: Valor criptografado\n",
    "        constant: Constante para multiplicação\n",
    "        \n",
    "    Returns:\n",
    "        E(k × m): Resultado da multiplicação (criptografado)\n",
    "    \"\"\"\n",
    "    n, _ = self.public_key\n",
    "    n_squared = n * n\n",
    "    \n",
    "    if constant < 0:\n",
    "        raise ValueError(\"Constante deve ser não-negativa\")\n",
    "    \n",
    "    return pow(ciphertext, constant, n_squared)\n",
    "\n",
    "PaillierCryptosystem.multiply_by_constant = multiply_by_constant\n"
   ]
  },
  {
   "cell_type": "code",
   "execution_count": null,
   "metadata": {},
   "outputs": [],
   "source": [
    "def get_public_key_info(self):\n",
    "    \"\"\"Retorna informações sobre a chave pública\"\"\"\n",
    "    n, g = self.public_key\n",
    "    return {\n",
    "        'n': n,\n",
    "        'g': g,\n",
    "        'n_bits': n.bit_length(),\n",
    "        'max_message': n - 1\n",
    "    }\n",
    "\n",
    "PaillierCryptosystem.get_public_key_info = get_public_key_info"
   ]
  },
  {
   "cell_type": "markdown",
   "metadata": {},
   "source": [
    "## Demonstração"
   ]
  },
  {
   "cell_type": "markdown",
   "metadata": {},
   "source": [
    "Vamos agora demonstrar as propriedades homomórficas do esquema Paillier com exemplos práticos."
   ]
  },
  {
   "cell_type": "code",
   "execution_count": null,
   "metadata": {},
   "outputs": [],
   "source": [
    "paillier = PaillierCryptosystem(key_size=256)  # Chave menor para demonstração rápida\n",
    "\n",
    "# Mostrar informações da chave pública\n",
    "key_info = paillier.get_public_key_info()\n",
    "print(f\"\\nInformações da Chave Pública:\")\n",
    "print(f\"n = {key_info['n']}\")\n",
    "print(f\"g = {key_info['g']}\")\n",
    "print(f\"Tamanho de n: {key_info['n_bits']} bits\")\n",
    "print(f\"Mensagem máxima: {key_info['max_message']}\")"
   ]
  },
  {
   "cell_type": "markdown",
   "metadata": {},
   "source": [
    "### 5.1 Teste da Criptografia Básica"
   ]
  },
  {
   "cell_type": "code",
   "execution_count": null,
   "metadata": {},
   "outputs": [],
   "source": [
    "# Valores de teste\n",
    "messages = [42, 100, 255, 1000]\n",
    "\n",
    "for msg in messages:\n",
    "    # Criptografar\n",
    "    encrypted = paillier.encrypt(msg)\n",
    "    \n",
    "    # Descriptografar\n",
    "    decrypted = paillier.decrypt(encrypted)\n",
    "    \n",
    "    # Verificar\n",
    "    success = \"✓\" if decrypted == msg else \"✗\"\n",
    "    print(f\"{success} m = {msg:4d} | E(m) = ... | D(E(m)) = {decrypted:4d}\")\n"
   ]
  },
  {
   "cell_type": "markdown",
   "metadata": {},
   "source": [
    "O que acontece se colocarmos umas msg como `-1`?"
   ]
  },
  {
   "cell_type": "markdown",
   "metadata": {},
   "source": [
    "### 5.2 Demonstração da Soma Homomórfica\n",
    "\n",
    "Vamos demonstrar que $E(m_1 + m_2) = E(m_1) \\times E(m_2) \\bmod n^2$"
   ]
  },
  {
   "cell_type": "code",
   "execution_count": null,
   "metadata": {},
   "outputs": [],
   "source": [
    "# Valores para teste\n",
    "m1, m2 = 15, 25\n",
    "print(f\"Soma esperada: m₁ + m₂ = {m1 + m2}\\n\")"
   ]
  },
  {
   "cell_type": "code",
   "execution_count": null,
   "metadata": {},
   "outputs": [],
   "source": [
    "# Criptografar os valores\n",
    "c1 = paillier.encrypt(m1)\n",
    "c2 = paillier.encrypt(m2)\n",
    "\n",
    "# Realizar a soma homomórfica\n",
    "homomorphic_sum = paillier.add_encrypted(c1, c2)\n",
    "\n",
    "c1,c2"
   ]
  },
  {
   "cell_type": "code",
   "execution_count": null,
   "metadata": {},
   "outputs": [],
   "source": [
    "# Descriptografar o resultado\n",
    "print(f\"Resultado da soma homomórfica (cifrado): {homomorphic_sum}\")"
   ]
  },
  {
   "cell_type": "code",
   "execution_count": null,
   "metadata": {},
   "outputs": [],
   "source": [
    "decrypted_homomorphic = paillier.decrypt(homomorphic_sum)\n",
    "print(f\"Resultado da soma homomórfica (descriptografado): {decrypted_homomorphic}\")"
   ]
  },
  {
   "cell_type": "markdown",
   "metadata": {},
   "source": [
    "### 5.3 Demonstração da Multiplicação por Escalar\n",
    "\n",
    "Vamos demonstrar que $E(k \\times m) = E(m)^k \\bmod n^2$"
   ]
  },
  {
   "cell_type": "code",
   "execution_count": null,
   "metadata": {},
   "outputs": [],
   "source": [
    "m = 12\n",
    "k = 7\n",
    "\n",
    "print(f\"Produto esperado: k × m = {k} × {m} = {k * m}\\n\")\n"
   ]
  },
  {
   "cell_type": "code",
   "execution_count": null,
   "metadata": {},
   "outputs": [],
   "source": [
    "# Criptografar o valor\n",
    "c = paillier.encrypt(m)\n",
    "\n",
    "# Realizar a multiplicação homomórfica\n",
    "homomorphic_product = paillier.multiply_by_constant(c, k)\n",
    "homomorphic_product"
   ]
  },
  {
   "cell_type": "code",
   "execution_count": null,
   "metadata": {},
   "outputs": [],
   "source": [
    "\n",
    "# Descriptografar o resultado\n",
    "decrypted_homomorphic = paillier.decrypt(homomorphic_product)\n",
    "decrypted_homomorphic\n"
   ]
  },
  {
   "cell_type": "markdown",
   "metadata": {},
   "source": [
    "### 5.4 Operações Complexas\n",
    "\n",
    "Vamos demonstrar operações mais complexas combinando as propriedades homomórficas:\n",
    "\n",
    "Calcularemos $k \\times (m_1 + m_2)$ de forma homomórfica através de $E(k \\times (m_1 + m_2)) = (E(m_1) \\times E(m_2))^k \\bmod n^2$"
   ]
  },
  {
   "cell_type": "code",
   "execution_count": null,
   "metadata": {},
   "outputs": [],
   "source": [
    "# Valores para teste\n",
    "m1, m2, k = 8, 12, 5\n",
    "expected = k * (m1 + m2)\n",
    "print(f\"Resultado esperado: k × (m₁ + m₂) = {k} × ({m1} + {m2}) = {expected}\\n\")"
   ]
  },
  {
   "cell_type": "code",
   "execution_count": null,
   "metadata": {},
   "outputs": [],
   "source": [
    "# Criptografar m1 e m2\n",
    "c1 = paillier.encrypt(m1)\n",
    "c2 = paillier.encrypt(m2)\n",
    "\n",
    "# Passo 1: Soma homomórfica de c1 e c2 para obter E(m1 + m2)\n",
    "c_sum = paillier.add_encrypted(c1, c2)\n",
    "\n",
    "# Passo 2: Multiplicação por escalar de E(m1 + m2) por k\n",
    "c_final = paillier.multiply_by_constant(c_sum, k)"
   ]
  },
  {
   "cell_type": "code",
   "execution_count": null,
   "metadata": {},
   "outputs": [],
   "source": [
    "# Descriptografar o resultado final\n",
    "decrypted_final = paillier.decrypt(c_final)\n",
    "\n",
    "print(f\"Resultado da operação complexa (descriptografado): {decrypted_final}\")\n"
   ]
  },
  {
   "cell_type": "markdown",
   "metadata": {},
   "source": [
    "## Aplicações"
   ]
  },
  {
   "cell_type": "markdown",
   "metadata": {},
   "source": [
    "O paillier é  útil em cenários que exigem a agregação de dados privados, como:\n",
    "   - **Votação Eletrônica (e-voting)**: Contar votos sem revelar as escolhas individuais.\n",
    "   - **Leilões Privados**: Determinar o vencedor sem revelar os lances dos outros participantes.\n",
    "   - **Análise de Dados Médicos**: Calcular estatísticas (como médias) de dados de pacientes de diferentes hospitais sem que os hospitais compartilhem os dados brutos.\n",
    "\n",
    "Embora não seja **totalmente homomórfico** (não suporta multiplicação entre dois números criptografados), suas propriedades são poderosas para muitas aplicações práticas que preservam a privacidade."
   ]
  },
  {
   "cell_type": "markdown",
   "metadata": {},
   "source": [
    "### Eleições Seguras: Preservando a Privacidade do processo eleitoral"
   ]
  },
  {
   "cell_type": "markdown",
   "metadata": {},
   "source": [
    "Na tranquila universidade UFCG, a comunidade acadêmica demonstrava crescente preocupação com a transparência e a privacidade no processo de escolha do novo reitor. A eleição entre os candidatos Alice e Bob precisava ser absolutamente segura, garantindo a inviolabilidade dos votos.\n",
    "\n",
    "No entanto, ao examinar o código do sistema de votação, um estudante do curso de computação fez uma descoberta alarmante: a urna eletrônica armazenava os votos de forma desprotegida, permitindo que um agente malicioso pudesse realizar a reidentificação dos eleitores — comprometendo a confidencialidade do processo eleitoral.\n",
    "\n",
    "segue o trecho da código da urna:\n",
    "\n",
    "- Onde 1 indicava votos em Alice e 0 em Bob."
   ]
  },
  {
   "cell_type": "code",
   "execution_count": null,
   "metadata": {},
   "outputs": [],
   "source": [
    "# Votos: 1 para candidato A, 0 para candidato B\n",
    "votos = [1, 0, 1, 1, 0, 1, 0, 1, 0, 1]  # 6 votos para A, 4 para B\n",
    "print(f\"Votos originais: {votos}\")\n",
    "print(f\"Candidato A: {sum(votos)} votos\")\n",
    "print(f\"Candidato B: {len(votos) - sum(votos)} votos\")"
   ]
  },
  {
   "cell_type": "markdown",
   "metadata": {},
   "source": [
    "A comissão eleitoral especificou um sistema revolucionário de votação eletrônica seguro , que garante:\n",
    "\n",
    "- **Privacidade Individual**: Nenhum voto pode ser identificado\n",
    "- **Integridade dos Resultados**: Contagem precisa e segura\n",
    "- **Transparência**: Possibilidade de verificação do resultado final\n",
    "\n",
    "#### Funcionanamento\n",
    "\n",
    "1. **Registro do Voto**\n",
    "   - Cada eleitor vota digitalmente\n",
    "   - Voto é imediatamente criptografado\n",
    "   - Valor 1 representa voto no Candidato A\n",
    "   - Valor 0 representa voto no Candidato B\n",
    "\n",
    "2. **Processo de Criptografia**\n",
    "   - Cada voto é transformado em um código secreto\n",
    "   - Impossível descobrir o voto original\n",
    "   - Apenas o resultado final pode ser descriptografado\n",
    "\n",
    "3. **Contagem Segura**\n",
    "   - Votos criptografados são computados\n",
    "   - Resultado final é descriptografado\n",
    "   - Preserva o anonimato de cada eleitor"
   ]
  },
  {
   "cell_type": "markdown",
   "metadata": {},
   "source": [
    "#### Passo 1: criptografar os dados"
   ]
  },
  {
   "cell_type": "code",
   "execution_count": null,
   "metadata": {},
   "outputs": [],
   "source": [
    "# Criptografar cada voto\n",
    "votos_criptografados = [paillier.encrypt(voto) for voto in votos]\n",
    "\n",
    "len(votos_criptografados)"
   ]
  },
  {
   "cell_type": "code",
   "execution_count": null,
   "metadata": {},
   "outputs": [],
   "source": [
    "votos_criptografados"
   ]
  },
  {
   "cell_type": "markdown",
   "metadata": {},
   "source": [
    "#### Passo 2: Soma dos votos"
   ]
  },
  {
   "cell_type": "code",
   "execution_count": null,
   "metadata": {},
   "outputs": [],
   "source": [
    "# Contar votos de forma segura (somando todos os valores criptografados)\n",
    "total_votos_A = votos_criptografados[0]\n",
    "for i in range(1, len(votos_criptografados)):\n",
    "    total_votos_A = paillier.add_encrypted(total_votos_A, votos_criptografados[i])"
   ]
  },
  {
   "cell_type": "code",
   "execution_count": null,
   "metadata": {},
   "outputs": [],
   "source": [
    "total_votos_A"
   ]
  },
  {
   "cell_type": "markdown",
   "metadata": {},
   "source": [
    "#### Passo 3: Como computar os votos de cada cantidato?"
   ]
  },
  {
   "cell_type": "code",
   "execution_count": null,
   "metadata": {},
   "outputs": [],
   "source": [
    "# Descriptografar apenas o resultado final\n",
    "resultado_A = paillier.decrypt(total_votos_A)\n",
    "resultado_B = len(votos) - resultado_A\n",
    "\n",
    "print(f\"Resultado da eleição:\")\n",
    "print(f\"\\t Candidato Alice: {resultado_A} votos\")\n",
    "print(f\"\\t Candidato Bob: {resultado_B} votos\")"
   ]
  },
  {
   "cell_type": "markdown",
   "metadata": {},
   "source": [
    "\n",
    "🔒 **Processo de Votação** 🔒\n",
    "- Votos são criptografados individualmente\n",
    "- Sistema soma os votos criptografados\n",
    "- Apenas o resultado final é revelado\n",
    "\n",
    "### Benefícios\n",
    "\n",
    "- ✅ Proteção contra fraudes\n",
    "- ✅ Sigilo do voto garantido\n",
    "- ✅ Contagem instantânea e precisa\n",
    "- ✅ Auditoria simplificada"
   ]
  }
 ],
 "metadata": {
  "kernelspec": {
   "display_name": ".venv",
   "language": "python",
   "name": "python3"
  },
  "language_info": {
   "codemirror_mode": {
    "name": "ipython",
    "version": 3
   },
   "file_extension": ".py",
   "mimetype": "text/x-python",
   "name": "python",
   "nbconvert_exporter": "python",
   "pygments_lexer": "ipython3",
   "version": "3.12.3"
  }
 },
 "nbformat": 4,
 "nbformat_minor": 4
}
