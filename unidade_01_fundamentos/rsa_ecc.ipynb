{
 "cells": [
  {
   "cell_type": "markdown",
   "id": "c0308aa1",
   "metadata": {},
   "source": [
    "# 🔐 RSA e ECC\n",
    "\n",
    "Este notebook apresenta uma visão didática dos algoritmos criptográficos RSA e ECC, abordando desde a implementação básica do RSA do zero até o uso de bibliotecas modernas como `PyCryptodome` e `cryptography`.\n",
    "\n",
    "Objetivos:\n",
    "\n",
    "-  RSA com apenas operações matemáticas básicas.\n",
    "- Demonstrar a vulnerabilidade de chaves pequenas no RSA.\n",
    "- Mostrar implementações práticas de RSA e ECC com bibliotecas modernas.\n",
    "- Comparar a performance entre RSA e ECC com benchmarks simples.\n"
   ]
  },
  {
   "cell_type": "markdown",
   "id": "ab96390d",
   "metadata": {},
   "source": [
    "## 🧮 Seção 1 – Implementando RSA do Zero\n",
    "Implementação completa do RSA com matemática básica: teste de primalidade, geração de chaves, criptografia e descriptografia."
   ]
  },
  {
   "cell_type": "markdown",
   "id": "34febbb5",
   "metadata": {},
   "source": [
    "### Gerando as chaves"
   ]
  },
  {
   "cell_type": "markdown",
   "id": "ac06a8c3",
   "metadata": {},
   "source": [
    "#### Metodos"
   ]
  },
  {
   "cell_type": "code",
   "execution_count": 23,
   "id": "657cc228",
   "metadata": {},
   "outputs": [],
   "source": [
    "import random\n",
    "\n",
    "def is_prime(n, k=5):\n",
    "    \"\"\"\n",
    "    Testa se um número n é primo usando o Teste de Miller-Rabin.\n",
    "    k é o número de iterações (quanto maior, mais preciso).\n",
    "    \"\"\"\n",
    "    if n <= 1 or n == 4:\n",
    "        return False\n",
    "    if n <= 3:\n",
    "        return True\n",
    "    if n % 2 == 0:\n",
    "        return False\n",
    "\n",
    "    # Escreve n-1 como 2^s * d\n",
    "    s = 0\n",
    "    d = n - 1\n",
    "    while d % 2 == 0:\n",
    "        d //= 2\n",
    "        s += 1\n",
    "\n",
    "    for _ in range(k):\n",
    "        a = random.randint(2, n - 2)\n",
    "        x = pow(a, d, n)\n",
    "        if x == 1 or x == n - 1:\n",
    "            continue\n",
    "        for _ in range(s - 1):\n",
    "            x = pow(x, 2, n)\n",
    "            if x == n - 1:\n",
    "                break\n",
    "        else:\n",
    "            return False\n",
    "    return True\n",
    "\n",
    "\n",
    "def gerar_primo(bits):\n",
    "    \"\"\"Gera um número primo grande com um número específico de bits.\"\"\"\n",
    "    while True:\n",
    "        num = random.getrandbits(bits)\n",
    "        # Garante que o número tenha o número correto de bits e seja ímpar\n",
    "        num |= (1 << bits - 1) | 1\n",
    "        if is_prime(num):\n",
    "            return num"
   ]
  },
  {
   "cell_type": "markdown",
   "id": "773ea43a",
   "metadata": {},
   "source": [
    "O metodo `extended_gcd` é uma implmentação do algoritmo estendido de Euclides. Onde além de calcular o máximo divisor comum (MDC) entre dois números ( a ) e ( b ), também retorna dois inteiros ( x ) e ( y ) que satisfazem a identidade de Bézout.\n",
    "\n",
    "- Caso base: se ( a = 0 ), então o MDC é ( b ), e os coeficientes de Bézout são ( x = 0 ) e ( y = 1 ).\n",
    "- Recursão: calcula recursivamente o extended_gcd(b % a, a), ou seja, chama a si mesmo com os restos sucessivos.\n",
    "- Volta recursiva: a cada retorno, ajusta os coeficientes ( x ) e ( y ) com base no valor anterior, usando a fórmula: \n",
    "    - $x = y_1 - \\left\\lfloor \\frac{b}{a} \\right\\rfloor \\cdot x_1$ \n",
    "    - $y = x_1$\n",
    "\n",
    "A identidade de Bézout afirma que, dados dois números inteiros ( a ) e ( n ), existem inteiros ( x ) e ( y ) tais que $ax + ny = \\gcd(a, n)$\n",
    "- Quando ( $\\gcd(a, n) = 1$ ), ou seja, ( a ) e ( n ) são coprimos, essa equação mostra que é possível encontrar um ( x ) tal que ( $ax \\equiv 1 \\pmod{n}$ )\n",
    "- Esse valor de ( x ) é justamente o inverso modular de ( a ) módulo ( n )\n",
    "\n",
    "Assim, a identidade de Bézout é utilizado para calcular o inverso modular de números (primos), importantes para o algoritmo RSA.\n",
    "\n",
    "\n"
   ]
  },
  {
   "cell_type": "code",
   "execution_count": 24,
   "id": "7612ea3f",
   "metadata": {},
   "outputs": [],
   "source": [
    "def gcd(a, b):\n",
    "    \"\"\"Calcula o Maior Divisor Comum (MDC) de a e b usando o algoritmo de Euclides.\"\"\"\n",
    "    while b:\n",
    "        a, b = b, a % b\n",
    "    return a\n",
    "\n",
    "def extended_gcd(a, b):\n",
    "    \"\"\"\n",
    "    Calcula o MDC de a e b e coeficientes x, y tais que ax + by = gcd(a, b).\n",
    "    Retorna (gcd, x, y).\n",
    "    \"\"\"\n",
    "    if a == 0:\n",
    "        return b, 0, 1\n",
    "    else:\n",
    "        g, x, y = extended_gcd(b % a, a)\n",
    "        return g, y - (b // a) * x, x\n",
    "\n",
    "def mod_inverse(a, m):\n",
    "    \"\"\"\n",
    "    Calcula o inverso modular de a modulo m, se existir.\n",
    "    Ou seja, encontra x tal que (a * x) % m == 1.\n",
    "    \"\"\"\n",
    "    g, x, y = extended_gcd(a, m)\n",
    "    if g != 1:\n",
    "        raise Exception('O inverso modular não existe')\n",
    "    else:\n",
    "        return x % m"
   ]
  },
  {
   "cell_type": "markdown",
   "id": "2623d24c",
   "metadata": {},
   "source": [
    "#### gerar chaves"
   ]
  },
  {
   "cell_type": "code",
   "execution_count": 25,
   "id": "b35ce36c",
   "metadata": {},
   "outputs": [],
   "source": [
    "def gerar_chaves_rsa(bits=1024,debug=False):\n",
    "    \"\"\"\n",
    "    Gera um par de chaves RSA (chave pública e chave privada).\n",
    "    bits: O tamanho em bits dos números primos p e q (determina a segurança).\n",
    "    \"\"\"\n",
    "    print(\"Gerando números primos p e q...\")\n",
    "    p = gerar_primo(bits)\n",
    "    q = gerar_primo(bits)\n",
    "\n",
    "    while p == q: # Garante que p e q sejam diferentes\n",
    "        q = gerar_primo(bits)\n",
    "\n",
    "    n = p * q\n",
    "    phi = (p - 1) * (q - 1) # Função totiente de Euler\n",
    "\n",
    "    if debug:\n",
    "        print(f\"p: {p}\")\n",
    "        print(f\"q: {q}\")\n",
    "        print(f\"n (módulo): {n}\")\n",
    "        print(f\"phi(n): {phi}\")\n",
    "\n",
    "    # Escolhe 'e' (expoente público), coprimo com phi\n",
    "    e = random.randrange(1, phi)\n",
    "    while gcd(e, phi) != 1:\n",
    "        e = random.randrange(1, phi)\n",
    "\n",
    "    # Calcula 'd' (expoente privado), inverso modular de e modulo phi\n",
    "    d = mod_inverse(e, phi)\n",
    "\n",
    "    # Chave pública: (e, n)\n",
    "    # Chave privada: (d, n)\n",
    "    return ((e, n), (d, n))"
   ]
  },
  {
   "cell_type": "markdown",
   "id": "07306945",
   "metadata": {},
   "source": [
    "### Metodos de Criptografar e Descriptografia"
   ]
  },
  {
   "cell_type": "code",
   "execution_count": 26,
   "id": "fef426be",
   "metadata": {},
   "outputs": [],
   "source": [
    "def encrypt(public_key, plaintext):\n",
    "    \"\"\"\n",
    "    Criptografa o texto plano usando a chave pública.\n",
    "    C = M^e mod n\n",
    "    \"\"\"\n",
    "    e, n = public_key\n",
    "    # Converte cada caractere para seu valor ASCII e criptografa\n",
    "    cipher = [pow(ord(char), e, n) for char in plaintext]\n",
    "    return cipher\n",
    "\n",
    "def decrypt(private_key, ciphertext):\n",
    "    \"\"\"\n",
    "    Descriptografa o texto cifrado usando a chave privada.\n",
    "    M = C^d mod n\n",
    "    \"\"\"\n",
    "    d, n = private_key\n",
    "    # Descriptografa cada número e converte de volta para caractere\n",
    "    plain = [chr(pow(char, d, n)) for char in ciphertext]\n",
    "    return \"\".join(plain)"
   ]
  },
  {
   "cell_type": "markdown",
   "id": "7ddf7ba6",
   "metadata": {},
   "source": [
    "### Cifrando e Decifrando"
   ]
  },
  {
   "cell_type": "markdown",
   "id": "e04dc629",
   "metadata": {},
   "source": [
    "gerando as chaves"
   ]
  },
  {
   "cell_type": "code",
   "execution_count": 27,
   "id": "7044855a",
   "metadata": {},
   "outputs": [
    {
     "name": "stdout",
     "output_type": "stream",
     "text": [
      "Gerando números primos p e q...\n",
      "🔐 Chave pública: (110738874208567711707689016040389020210356976846577785250151466281947118540770852809407296914437681954111393873132089721377547415638752630966044021808950240821352155988392584471829934892530670358448323395155814196847492453814359346851214259003075923158183638368931894316336622866413253099367638762225008029911, 132269051718006956383541817750699470071736788605958280513907923242237654103291834529670319893937436043977425629385941386477308847655469610374573412449556443509101424755314818945816102904069960279359119519272953027833941138886124378633602923861580087030895208914510796567176068861274253294065421165442109607801)\n",
      "🔑 Chave privada: (99441758934836608039763918228982895910083004416685544567832315074633722410185246740649291372669917492205772088562295854502757262779692556541111718416444430523127938951506713146340881009706747437533050979958891041984884126226416192090006684857193409143488976188594337521905398557339239281122554514937177745535, 132269051718006956383541817750699470071736788605958280513907923242237654103291834529670319893937436043977425629385941386477308847655469610374573412449556443509101424755314818945816102904069960279359119519272953027833941138886124378633602923861580087030895208914510796567176068861274253294065421165442109607801)\n"
     ]
    }
   ],
   "source": [
    "pub, priv = gerar_chaves_rsa(512)\n",
    "print(\"🔐 Chave pública:\", pub)\n",
    "print(\"🔑 Chave privada:\", priv)"
   ]
  },
  {
   "cell_type": "markdown",
   "id": "6f8336e2",
   "metadata": {},
   "source": [
    "criptografar"
   ]
  },
  {
   "cell_type": "code",
   "execution_count": 28,
   "id": "34e91b8b",
   "metadata": {},
   "outputs": [
    {
     "name": "stdout",
     "output_type": "stream",
     "text": [
      "\n",
      "Mensagem Original: Olá, este é um teste de criptografia RSA!\n",
      "\n",
      "Criptografando mensagem...\n",
      "🔒 Criptografada: [38679865273625048937493886318617896537958726950598601582077566684314270606082835824130676390126093144259042616479909170564707067029216615589920569806992757824634354120827802929626409220765919117162054168453997935371586533905989866179095781370489071672891986366915104447955817279876247495666851963492197991539, 107711435552558876077190490347122257275081047642350256157399861665744632528679561265935173479462839396646998252451581513841678148685446565810999634415405807019259132554944673944859611609418991627911252744138763421496580887716868092411819386239766284152845027422564023420606119429816142574218528391677754153038, 5133834786352936918759566238839333659685306421728359857716682664528557427574779819889987305864781191658232811997463981239961627552136958688570311102639097772030411452849967549012652982791074030966942918537626399503628761416973669230777603396539720943987972352868577731202134617039559223084395754622928120444, 6891694982736992436611392076423540038775733877923611712770863742281553187753152837746091333283222703937615858673867212663013016700029446115235982430547108277314645468192958647354735723762978354011832333391866098559998300570324549967176959080575115203504178458770770346026650827920381262089369521536189263641, 49166103110169497188868739370375654693835392966473850545177385355881685279008691530628148751981776327450601573666131850949291058827695029275549316141131222157545130122251461055406753762593011329095106987415595749047664955588540977608755157362270248848451059835886437183303085561587673405508776542364175048447, 104600729588214882662324522076813357576030085349937363885527455206996973007643618606975518997092623942375053106030246632742698848595564301877967885543807586544584176580169041122436282234655805042521713619826901351780277673528797007032748997566396556977374017057460223760903448459233117249519012954239824131578, 84494379223302049112829661304795843019194327973869166538107068228973185618421291572506806885389702506224981931115900653597046532916935330994017012041414832162000055381819737812801097840331187145316072302799966937362293404108922033005634474852274043691183241166069897468174671999522771044620592760439424818272, 129784594832677766159997738150385990155812744007225115957069306593493165752750109078189701903500826032658410619029191019824954914988198252528228699107321246811083588847352574909380900418305738620354098324261666565914114666238719212794198058132741729234089924464458084640712953661199644914589572721201388204491, 104600729588214882662324522076813357576030085349937363885527455206996973007643618606975518997092623942375053106030246632742698848595564301877967885543807586544584176580169041122436282234655805042521713619826901351780277673528797007032748997566396556977374017057460223760903448459233117249519012954239824131578, 49166103110169497188868739370375654693835392966473850545177385355881685279008691530628148751981776327450601573666131850949291058827695029275549316141131222157545130122251461055406753762593011329095106987415595749047664955588540977608755157362270248848451059835886437183303085561587673405508776542364175048447, 127747673660566865435352245635479004118343867211498608927158477508295421651922552440585705575063076249521073384286873584377445312311786367029458296787029567558141490221966485482990253206641396689054481343208118545515872902219044039639979842150330995429496381693968852704652238478938091888254054236575841187940, 49166103110169497188868739370375654693835392966473850545177385355881685279008691530628148751981776327450601573666131850949291058827695029275549316141131222157545130122251461055406753762593011329095106987415595749047664955588540977608755157362270248848451059835886437183303085561587673405508776542364175048447, 45698987637752710552327323864943848618663119741053228891182091853361563495638126558059501968439108484328859463008986219214772674436422474380947286374272081448830420595398221062511397525671611628099783345527078347135420081874449335770079425308961630078200753134328890869559682428301082116329287005007948601195, 87293581238393043401731313950934809577047833874785902104442859129483130096573747518462702246252041190397108672470544306967572388452353571341304870131997419849642024305670318248292412362295458540693945927819750305339462632125072752702742157207830456394400820919647240187670227979147312747946379397346078674985, 49166103110169497188868739370375654693835392966473850545177385355881685279008691530628148751981776327450601573666131850949291058827695029275549316141131222157545130122251461055406753762593011329095106987415595749047664955588540977608755157362270248848451059835886437183303085561587673405508776542364175048447, 129784594832677766159997738150385990155812744007225115957069306593493165752750109078189701903500826032658410619029191019824954914988198252528228699107321246811083588847352574909380900418305738620354098324261666565914114666238719212794198058132741729234089924464458084640712953661199644914589572721201388204491, 104600729588214882662324522076813357576030085349937363885527455206996973007643618606975518997092623942375053106030246632742698848595564301877967885543807586544584176580169041122436282234655805042521713619826901351780277673528797007032748997566396556977374017057460223760903448459233117249519012954239824131578, 84494379223302049112829661304795843019194327973869166538107068228973185618421291572506806885389702506224981931115900653597046532916935330994017012041414832162000055381819737812801097840331187145316072302799966937362293404108922033005634474852274043691183241166069897468174671999522771044620592760439424818272, 129784594832677766159997738150385990155812744007225115957069306593493165752750109078189701903500826032658410619029191019824954914988198252528228699107321246811083588847352574909380900418305738620354098324261666565914114666238719212794198058132741729234089924464458084640712953661199644914589572721201388204491, 104600729588214882662324522076813357576030085349937363885527455206996973007643618606975518997092623942375053106030246632742698848595564301877967885543807586544584176580169041122436282234655805042521713619826901351780277673528797007032748997566396556977374017057460223760903448459233117249519012954239824131578, 49166103110169497188868739370375654693835392966473850545177385355881685279008691530628148751981776327450601573666131850949291058827695029275549316141131222157545130122251461055406753762593011329095106987415595749047664955588540977608755157362270248848451059835886437183303085561587673405508776542364175048447, 119773207148019955343414578170466532976804768171546235770732520198066114494043922044028935060701479268949252109155552198728864744601658438500626042188661049490779048795742967251489569275266892792545688283765777736499169532841006516216830195407437980172718236480556779426508382682564570097786584683392419562204, 104600729588214882662324522076813357576030085349937363885527455206996973007643618606975518997092623942375053106030246632742698848595564301877967885543807586544584176580169041122436282234655805042521713619826901351780277673528797007032748997566396556977374017057460223760903448459233117249519012954239824131578, 49166103110169497188868739370375654693835392966473850545177385355881685279008691530628148751981776327450601573666131850949291058827695029275549316141131222157545130122251461055406753762593011329095106987415595749047664955588540977608755157362270248848451059835886437183303085561587673405508776542364175048447, 87945268992728776395913626996930512735836790024820181275048258852442438102102095198283465764182126365423610368625508154332843571136162097259834744614390573565865412875885589720376851601621541528133066259708761726815333879189531895260191935813874850619683579196525868276283420000678209241507610873951166567630, 117603330771012819430778261502157826679039212340792276856758954951808253429535001807906678666076950952219406256100525985494675355459663761152181524047866156671955787290443094950448910551327654444292351125483665224506381369779392313897663132677631185536184095083876652109741368556745646439679956992270502598480, 6957196637617760757530927419487341077850149166259997314570145882525058518160230569092251394556274792579588074248117111002288553759526857662423780742210514928578804522573646795421742508697523194043882512954293518312486140091172694721943938728269271575968039012240993839851344685083359952191364403366774824807, 33685280834942687910976426884805524838518396141952273841236613443557233472925679898031015103137713088365216555274377484130577913712381565269178727612475867548332559904965879946602127344255124204700249045061365338860976736314646870491531823135562603516730099165147052024180671759078375595073962911170301244197, 129784594832677766159997738150385990155812744007225115957069306593493165752750109078189701903500826032658410619029191019824954914988198252528228699107321246811083588847352574909380900418305738620354098324261666565914114666238719212794198058132741729234089924464458084640712953661199644914589572721201388204491, 13613840991706051301415386754875287669846619206314525781399095706974671754615770463773978482526610921693298391442514155806405737317961264932030260242060936418930797187076716851084574650744587283173896793716098970854572211499157014757026806720217662503342991739101352791486198280547572274561447627203437513388, 52902905124755841447235215300455428124303589969860317142512938272174863634892205942956048185998349461891856155578135907565209237862644963386489641970946974527380662426910714681273996939385745190977473410919452822833828719809849910900488467143738580466957286942928568885099341749043478042899696292116837994391, 117603330771012819430778261502157826679039212340792276856758954951808253429535001807906678666076950952219406256100525985494675355459663761152181524047866156671955787290443094950448910551327654444292351125483665224506381369779392313897663132677631185536184095083876652109741368556745646439679956992270502598480, 832926849723045612395729072197359138886980406437278130053196421516942086212221759731769890626812875870148385116004688789253039780718646355049355778741144433927983880981287304980104311185093343379384299361000794352740162000461108601078914154753798408052980086397809013788790304701814135654277457542067490977, 123697267377970044688733933736790280428940058752828118260818627413528628749471382093248117081623810704772168941791742171327867073605334637403880595255144698355246430629954966967368845201985524011707541612442693496134352496969607073162195719497278281209406700763056961294533385203879928525329560514286065558848, 6957196637617760757530927419487341077850149166259997314570145882525058518160230569092251394556274792579588074248117111002288553759526857662423780742210514928578804522573646795421742508697523194043882512954293518312486140091172694721943938728269271575968039012240993839851344685083359952191364403366774824807, 832926849723045612395729072197359138886980406437278130053196421516942086212221759731769890626812875870148385116004688789253039780718646355049355778741144433927983880981287304980104311185093343379384299361000794352740162000461108601078914154753798408052980086397809013788790304701814135654277457542067490977, 49166103110169497188868739370375654693835392966473850545177385355881685279008691530628148751981776327450601573666131850949291058827695029275549316141131222157545130122251461055406753762593011329095106987415595749047664955588540977608755157362270248848451059835886437183303085561587673405508776542364175048447, 40458530376335118106611951194264626622665564925559704440722625312343060446251342351420817470800293859306694981078907904960532459366792826361232835378368250683649495827581582909259650412845096588380241695571795281901287868813749347788023351606883823687344243072505431427346487546289518664155246388367175207923, 119094974491258499844251846963662246224783140757140753061717859049677146473562012306798744516734245776005552338834775752438378799398493080327284639359648674627479870266747281074088908901218566452867250565932568800036000974851518782962923283213658435627018728042331573741869972091027064176519884606127418196926, 51819060566503930315050884362717465384069480362796569170134292446779400178017955273018319297936492128642073204367724569960183593111112405996769166559852994611901108298158881219265455258258726693867757565541451849129770204549034410310038223318329303573982678528280158639264334115815038923531702327930516233072, 34227951618524479481598001469884436043409340746174937761662524709468493817222695335944690140961122502724420326741449950923601041944223104672114390750103929475312679966670965927348720102237080446806337257152503675498449885290807942929585738355306688680147507462774901317875045691072902305280875908791944548469]\n"
     ]
    }
   ],
   "source": [
    "message = \"Olá, este é um teste de criptografia RSA!\"\n",
    "print(f\"\\nMensagem Original: {message}\")\n",
    "\n",
    "# Criptografia\n",
    "print(\"\\nCriptografando mensagem...\")\n",
    "encrypted_message = encrypt(pub, message)\n",
    "print(\"🔒 Criptografada:\", encrypted_message)"
   ]
  },
  {
   "cell_type": "markdown",
   "id": "6f7d65ed",
   "metadata": {},
   "source": [
    "descriptografar"
   ]
  },
  {
   "cell_type": "code",
   "execution_count": 29,
   "id": "2cde122a",
   "metadata": {},
   "outputs": [
    {
     "name": "stdout",
     "output_type": "stream",
     "text": [
      "\n",
      "Descriptografando mensagem...\n",
      "🔓 Descriptografada: Olá, este é um teste de criptografia RSA!\n"
     ]
    }
   ],
   "source": [
    "# Descriptografia\n",
    "print(\"\\nDescriptografando mensagem...\")\n",
    "decrypted_message = decrypt(priv, encrypted_message)\n",
    "print(\"🔓 Descriptografada:\", decrypted_message)"
   ]
  },
  {
   "cell_type": "markdown",
   "id": "9f60ee80",
   "metadata": {},
   "source": [
    "### Alterando os parametros"
   ]
  },
  {
   "cell_type": "code",
   "execution_count": 30,
   "id": "b81fb4a5",
   "metadata": {},
   "outputs": [
    {
     "name": "stdout",
     "output_type": "stream",
     "text": [
      "Gerando números primos p e q...\n"
     ]
    }
   ],
   "source": [
    "pub, priv = gerar_chaves_rsa(8)"
   ]
  },
  {
   "cell_type": "code",
   "execution_count": 31,
   "id": "d686d286",
   "metadata": {},
   "outputs": [
    {
     "name": "stdout",
     "output_type": "stream",
     "text": [
      "Gerando par de chaves RSA...\n",
      "🔓 Descriptografada: \n",
      "Os loucos por amor eram três ou quatro, mas só dous espantavam pelo curioso do delírio. O primeiro, um Falcão, rapaz de vinte e cinco anos, supunha-se estrela d'alva, abria os braços e alargava as pernas, para dar-lhes certa feição de raios, e ficava assim horas esquecidas a perguntar se o sol já tinha saído para ele recolher-se. O outro andava sempre, sempre, sempre, à roda das salas ou do pátio, ao longo dos corredores, à procura do fim do mundo. Era um desgraçado, a quem a mulher deixou por seguir um peralvilho. Mal descobrira a fuga, armou-se de uma garrucha, e saiu-lhes no encalço; achou-os duas horas depois, ao pé de uma lagoa, matou-os a ambos com os maiores requintes de crueldade.\n",
      " O ciúme satisfez-se, mas o vingado estava louco. E então começou aquela ânsia de ir ao fim do mundo à cata dos fugitivos.\n",
      "\n",
      "A mania das grandezas tinha exemplares notáveis. O mais notável era um pobre-diabo, filho de um algibebe, que narrava às paredes (porque não olhava nunca para nenhuma pessoa) toda a sua genealogia, que era esta:\n",
      "\n",
      "- Deus engendrou um ovo, o ovo engendrou a espada, a espada engendrou Davi, Davi engendrou a púrpura, a púrpura engendrou o duque, o duque engendrou o marquês, o marquês engendrou o conde, que sou eu.\n",
      "\n",
      "Dava uma pancada na testa, um estalo com os dedos, e repetia cinco, seis vezes seguidas:\n",
      "\n",
      "- Deus engendrou um ovo, o ovo, etc.\n",
      "\n",
      "Outro da mesma espécie era um escrivão, que se vendia por mordomo do rei; outro era um boiadeiro de Minas, cuja mania era distribuir boiadas a toda a gente, dava trezentas cabeças a um, seiscentas a outro, mil e duzentas a outro, e não acabava mais. Não falo dos casos de monomania religiosa; apenas citarei um sujeito que, chamando-se João de Deus, dizia agora ser o deus João, e prometia o reino dos céus a quem o adorasse, e as penas do inferno aos outros; e depois desse, o licenciado Garcia, que não dizia nada, porque imaginava que no dia em que chegasse a proferir uma só palavra, todas as estrelas se despegariam do céu e abrasariam a terra; tal era o poder que recebera de Deus. Assim o escrevia ele no papel que o alienista lhe mandava dar, menos por caridade do que por interesse científico.\n",
      "\n",
      "Que, na verdade, a paciência do alienista era ainda mais extraordinária do que todas as manias hospedadas na Casa Verde; nada menos que assombrosa. Simão Bacamarte começou por organizar um pessoal de administração; e, aceitando essa ideia ao boticário Crispim Soares, aceitou-lhe também dous sobrinhos, a quem incumbiu da execução de um regimento que lhes deu, aprovado pela Câmara, da distribuição da comida e da roupa, e assim também da escrita, etc. Era o melhor que podia fazer, para somente cuidar do seu ofício.\n",
      "\n"
     ]
    }
   ],
   "source": [
    "print(\"Gerando par de chaves RSA...\")\n",
    "message = \"\"\"\n",
    "Os loucos por amor eram três ou quatro, mas só dous espantavam pelo curioso do delírio. O primeiro, um Falcão, rapaz de vinte e cinco anos, supunha-se estrela d'alva, abria os braços e alargava as pernas, para dar-lhes certa feição de raios, e ficava assim horas esquecidas a perguntar se o sol já tinha saído para ele recolher-se. O outro andava sempre, sempre, sempre, à roda das salas ou do pátio, ao longo dos corredores, à procura do fim do mundo. Era um desgraçado, a quem a mulher deixou por seguir um peralvilho. Mal descobrira a fuga, armou-se de uma garrucha, e saiu-lhes no encalço; achou-os duas horas depois, ao pé de uma lagoa, matou-os a ambos com os maiores requintes de crueldade.\n",
    " O ciúme satisfez-se, mas o vingado estava louco. E então começou aquela ânsia de ir ao fim do mundo à cata dos fugitivos.\n",
    "\n",
    "A mania das grandezas tinha exemplares notáveis. O mais notável era um pobre-diabo, filho de um algibebe, que narrava às paredes (porque não olhava nunca para nenhuma pessoa) toda a sua genealogia, que era esta:\n",
    "\n",
    "- Deus engendrou um ovo, o ovo engendrou a espada, a espada engendrou Davi, Davi engendrou a púrpura, a púrpura engendrou o duque, o duque engendrou o marquês, o marquês engendrou o conde, que sou eu.\n",
    "\n",
    "Dava uma pancada na testa, um estalo com os dedos, e repetia cinco, seis vezes seguidas:\n",
    "\n",
    "- Deus engendrou um ovo, o ovo, etc.\n",
    "\n",
    "Outro da mesma espécie era um escrivão, que se vendia por mordomo do rei; outro era um boiadeiro de Minas, cuja mania era distribuir boiadas a toda a gente, dava trezentas cabeças a um, seiscentas a outro, mil e duzentas a outro, e não acabava mais. Não falo dos casos de monomania religiosa; apenas citarei um sujeito que, chamando-se João de Deus, dizia agora ser o deus João, e prometia o reino dos céus a quem o adorasse, e as penas do inferno aos outros; e depois desse, o licenciado Garcia, que não dizia nada, porque imaginava que no dia em que chegasse a proferir uma só palavra, todas as estrelas se despegariam do céu e abrasariam a terra; tal era o poder que recebera de Deus. Assim o escrevia ele no papel que o alienista lhe mandava dar, menos por caridade do que por interesse científico.\n",
    "\n",
    "Que, na verdade, a paciência do alienista era ainda mais extraordinária do que todas as manias hospedadas na Casa Verde; nada menos que assombrosa. Simão Bacamarte começou por organizar um pessoal de administração; e, aceitando essa ideia ao boticário Crispim Soares, aceitou-lhe também dous sobrinhos, a quem incumbiu da execução de um regimento que lhes deu, aprovado pela Câmara, da distribuição da comida e da roupa, e assim também da escrita, etc. Era o melhor que podia fazer, para somente cuidar do seu ofício.\n",
    "\"\"\"\n",
    "\n",
    "\n",
    "encrypted_message = encrypt(pub, message)\n",
    "decrypted_message = decrypt(priv, encrypted_message)\n",
    "print(\"🔓 Descriptografada:\", decrypted_message)\n"
   ]
  },
  {
   "cell_type": "markdown",
   "id": "25260455",
   "metadata": {},
   "source": [
    "## 🧩 Seção 2 – Implementações com Bibliotecas Python\n",
    "Nesta seção, vamos explorar o uso de bibliotecas modernas para implementar criptografia RSA e ECC na prática."
   ]
  },
  {
   "cell_type": "markdown",
   "id": "e13dfac5",
   "metadata": {},
   "source": [
    "### 🔍 RSA com PyCryptodome"
   ]
  },
  {
   "cell_type": "code",
   "execution_count": 32,
   "id": "48f6078f",
   "metadata": {},
   "outputs": [],
   "source": [
    "from Crypto.PublicKey import RSA\n",
    "from Crypto.Cipher import PKCS1_OAEP\n",
    "from Crypto.Signature import pkcs1_15\n",
    "from Crypto.Hash import SHA256"
   ]
  },
  {
   "cell_type": "markdown",
   "id": "eee6e319",
   "metadata": {},
   "source": [
    "\n",
    "#### 🔭 Criptografia de Desciptografia"
   ]
  },
  {
   "cell_type": "code",
   "execution_count": 33,
   "id": "a2763d58",
   "metadata": {},
   "outputs": [
    {
     "name": "stdout",
     "output_type": "stream",
     "text": [
      "🔒 Criptografado: 66c243686927519176c58fd7bb78a7a59b859de916482b058a2c0e86e8e1c76308d36f3642c12df8647acb571b0d397f09c370933d2aa3cb9749d68065582c9cf8bc11358b539a4bff5762b24d2d5eb75b4c90b902dc8de68c09284dd85684be61e7f957916d508194febec2ff022e0ff3ccb9900910d219ccb071a9f72b7cff0cb85155dfcae3bd114b32e380ea37577ffc87d42dc85866f67935738f9f1283f95196e8d83483f6a0e9c47cf10c26606eb02e04e067f103c005bdfe641429e1c0228b79625c35e52310b9f68fa8c7a44f78421bf52dc94eb34b917cc788a0a5e28210aa3ad4efeffa9ea0bd4d68626e5c8ca7b1d1b87a63ab6d351314b6b4fd\n"
     ]
    }
   ],
   "source": [
    "# Geração de chave RSA\n",
    "key = RSA.generate(2048)\n",
    "public_key = key.publickey()\n",
    "\n",
    "message = b\"Mensagem com PyCryptodome\"\n",
    "\n",
    "# Criptografia\n",
    "cipher = PKCS1_OAEP.new(public_key)\n",
    "ciphertext = cipher.encrypt(message)\n",
    "print(\"🔒 Criptografado:\", ciphertext.hex())\n"
   ]
  },
  {
   "cell_type": "code",
   "execution_count": 34,
   "id": "546251f4",
   "metadata": {},
   "outputs": [
    {
     "name": "stdout",
     "output_type": "stream",
     "text": [
      "🔓 Descriptografado: Mensagem com PyCryptodome\n"
     ]
    }
   ],
   "source": [
    "# Descriptografia\n",
    "decipher = PKCS1_OAEP.new(key)\n",
    "plaintext = decipher.decrypt(ciphertext)\n",
    "print(\"🔓 Descriptografado:\", plaintext.decode())"
   ]
  },
  {
   "cell_type": "markdown",
   "id": "8e7ca34e",
   "metadata": {},
   "source": [
    "### 🪢 ECC com `cryptography` (Ed25519)\n"
   ]
  },
  {
   "cell_type": "markdown",
   "id": "7045f1ea",
   "metadata": {},
   "source": [
    "O algoritmo Ed25519 é uma curva elíptica com suporte na biblioteca `cryptography`."
   ]
  },
  {
   "cell_type": "code",
   "execution_count": 35,
   "id": "083f070c",
   "metadata": {},
   "outputs": [],
   "source": [
    "from cryptography.hazmat.primitives.asymmetric import ed25519"
   ]
  },
  {
   "cell_type": "code",
   "execution_count": 36,
   "id": "b49ca2ae",
   "metadata": {},
   "outputs": [],
   "source": [
    "# Geração de chave\n",
    "private_key = ed25519.Ed25519PrivateKey.generate()\n",
    "public_key = private_key.public_key()\n"
   ]
  },
  {
   "cell_type": "code",
   "execution_count": 37,
   "id": "90fee422",
   "metadata": {},
   "outputs": [],
   "source": [
    "# Assinatura de mensagem\n",
    "msg = b\"Mensagem assinada com Ed25519\"\n",
    "signature = private_key.sign(msg)"
   ]
  },
  {
   "cell_type": "code",
   "execution_count": 38,
   "id": "caaa7482",
   "metadata": {},
   "outputs": [],
   "source": [
    "# Verificação\n",
    "public_key.verify(signature, msg)"
   ]
  },
  {
   "cell_type": "markdown",
   "id": "69027d6f",
   "metadata": {},
   "source": [
    "#### 📌 Exibindo as chaves Ed25519"
   ]
  },
  {
   "cell_type": "code",
   "execution_count": 39,
   "id": "83ad8689",
   "metadata": {},
   "outputs": [],
   "source": [
    "from cryptography.hazmat.primitives import serialization"
   ]
  },
  {
   "cell_type": "code",
   "execution_count": 40,
   "id": "ae5711b4",
   "metadata": {},
   "outputs": [],
   "source": [
    "# Obter bytes \"puros\" da chave privada (seed de 32 bytes)\n",
    "private_bytes = private_key.private_bytes(\n",
    "    encoding=serialization.Encoding.Raw,\n",
    "    format=serialization.PrivateFormat.Raw,\n",
    "    encryption_algorithm=serialization.NoEncryption()\n",
    ")\n",
    "\n",
    "# Obter bytes da chave pública\n",
    "public_bytes = public_key.public_bytes(\n",
    "    encoding=serialization.Encoding.Raw,\n",
    "    format=serialization.PublicFormat.Raw\n",
    ")"
   ]
  },
  {
   "cell_type": "code",
   "execution_count": 41,
   "id": "7d9f0c26",
   "metadata": {},
   "outputs": [
    {
     "name": "stdout",
     "output_type": "stream",
     "text": [
      "\n",
      "📏 Tamanhos: chave privada = 32 bytes, pública = 32 bytes\n"
     ]
    }
   ],
   "source": [
    "print(f\"\\n📏 Tamanhos: chave privada = {len(private_bytes)} bytes, pública = {len(public_bytes)} bytes\")"
   ]
  },
  {
   "cell_type": "code",
   "execution_count": 42,
   "id": "aa7b924c",
   "metadata": {},
   "outputs": [
    {
     "name": "stdout",
     "output_type": "stream",
     "text": [
      "🔐 Escalar da chave privada (d, 32 bytes):\n",
      "8cc300665a65718cfd1f351ed53507b64bb7158e80e40ca70d38fceafa0a693b\n"
     ]
    }
   ],
   "source": [
    "print(\"🔐 Escalar da chave privada (d, 32 bytes):\")\n",
    "print(private_bytes.hex())\n"
   ]
  },
  {
   "cell_type": "code",
   "execution_count": 43,
   "id": "7326ade9",
   "metadata": {},
   "outputs": [
    {
     "name": "stdout",
     "output_type": "stream",
     "text": [
      "\n",
      "📌 Coordenadas compactadas da chave pública (A = d*B, 32 bytes):\n",
      "5dbd7011e39f39711ba6a02d318e7856c39348e70eef249cb9e01fc8ea4cff69\n"
     ]
    }
   ],
   "source": [
    "print(\"\\n📌 Coordenadas compactadas da chave pública (A = d*B, 32 bytes):\")\n",
    "print(public_bytes.hex())"
   ]
  },
  {
   "cell_type": "markdown",
   "id": "0a4ea50f",
   "metadata": {},
   "source": [
    "## ⏱️ Seção 3 – Comparação de Desempenho: RSA Didático vs PyCryptodome vs ECC"
   ]
  },
  {
   "cell_type": "markdown",
   "id": "2a898e45",
   "metadata": {},
   "source": [
    "Vamos comparar o desempenho de três abordagens de criptografia:\n",
    "\n",
    "1. RSA implementado do zero (versão didática)\n",
    "2. RSA com a biblioteca `PyCryptodome`\n",
    "3. ECC (Ed25519) com a biblioteca `cryptography`\n",
    "\n",
    "Faremos os testes com diferentes tamanhos de mensagens e chaves e mediremos:\n",
    "\n",
    "- Tempo de criptografia e descriptografia\n",
    "- Uso de memória"
   ]
  },
  {
   "cell_type": "code",
   "execution_count": 44,
   "id": "049f5b14",
   "metadata": {},
   "outputs": [
    {
     "name": "stdout",
     "output_type": "stream",
     "text": [
      "Gerando números primos p e q...\n",
      "Gerando números primos p e q...\n"
     ]
    }
   ],
   "source": [
    "import time\n",
    "import matplotlib.pyplot as plt\n",
    "import tracemalloc\n",
    "import numpy as np\n",
    "\n",
    "def measure_time_memory(func, *args):\n",
    "    tracemalloc.start()\n",
    "    start_time = time.perf_counter()\n",
    "    result = func(*args)\n",
    "    end_time = time.perf_counter()\n",
    "    current, peak = tracemalloc.get_traced_memory()\n",
    "    tracemalloc.stop()\n",
    "    return end_time - start_time, peak / 1024, result\n",
    "\n",
    "def measure_time_memory_2(func, msg , key):\n",
    "    tracemalloc.start()\n",
    "    start_time = time.perf_counter()\n",
    "    result = func(key,msg)\n",
    "    end_time = time.perf_counter()\n",
    "    current, peak = tracemalloc.get_traced_memory()\n",
    "    tracemalloc.stop()\n",
    "    return end_time - start_time, peak / 1024, result\n",
    "\n",
    "# Mensagens de diferentes tamanhos\n",
    "messages = {\n",
    "    'curta': \"abc\",\n",
    "    'média': \"mensagem de teste com tamanho médio\",\n",
    "    'longa': \"X\" * 100\n",
    "}\n",
    "\n",
    "# RSA didático\n",
    "rsa_keys_512 = gerar_chaves_rsa(512)\n",
    "rsa_keys_1024 = gerar_chaves_rsa(1024)\n",
    "\n",
    "# PyCryptodome\n",
    "from Crypto.PublicKey import RSA as RSACrypto\n",
    "from Crypto.Cipher import PKCS1_OAEP\n",
    "pycrypto_key = RSACrypto.generate(2048)\n",
    "pycrypto_enc = PKCS1_OAEP.new(pycrypto_key.publickey())\n",
    "pycrypto_dec = PKCS1_OAEP.new(pycrypto_key)\n",
    "\n",
    "# ECC (Ed25519)\n",
    "from cryptography.hazmat.primitives.asymmetric import ed25519\n",
    "ecc_key = ed25519.Ed25519PrivateKey.generate()\n",
    "ecc_pub = ecc_key.public_key()\n",
    "\n",
    "tempos = {'RSA_didático_512': [], 'RSA_didático_1024': [], 'PyCryptodome_RSA_2048': [], 'ECC_ed25519': []}\n",
    "memorias = {'RSA_didático_512': [], 'RSA_didático_1024': [], 'PyCryptodome_RSA_2048': [], 'ECC_ed25519': []}\n",
    "\n"
   ]
  },
  {
   "cell_type": "code",
   "execution_count": 46,
   "id": "8ee8a7c0",
   "metadata": {},
   "outputs": [],
   "source": [
    "for nome, texto in messages.items():\n",
    "    bmsg = texto.encode()\n",
    "\n",
    "    # RSA Caseiro 512\n",
    "    priv = rsa_keys_512[0]\n",
    "    pub = rsa_keys_512[1]\n",
    "    t1, m1, c = measure_time_memory_2(encrypt, texto, priv)\n",
    "    t2, m2, _ = measure_time_memory_2(decrypt, c, pub)\n",
    "    tempos['RSA_didático_512'].append(t1 + t2)\n",
    "    memorias['RSA_didático_512'].append(m1 + m2)\n",
    "\n",
    "    # RSA Caseiro 1024\n",
    "    t1, m1, c = measure_time_memory_2(encrypt, texto, rsa_keys_1024[0])\n",
    "    t2, m2, _ = measure_time_memory_2(decrypt, c, rsa_keys_1024[1])\n",
    "    tempos['RSA_didático_1024'].append(t1 + t2)\n",
    "    memorias['RSA_didático_1024'].append(m1 + m2)\n",
    "\n",
    "    # RSA PyCryptodome\n",
    "    t1, m1, c = measure_time_memory(pycrypto_enc.encrypt, bmsg)\n",
    "    t2, m2, _ = measure_time_memory(pycrypto_dec.decrypt, c)\n",
    "    tempos['PyCryptodome_RSA_2048'].append(t1 + t2)\n",
    "    memorias['PyCryptodome_RSA_2048'].append(m1 + m2)\n",
    "\n",
    "    # ECC Ed25519 (assinatura/verificação)\n",
    "    t1, m1, s = measure_time_memory(ecc_key.sign, bmsg)\n",
    "    t2, m2, _ = measure_time_memory(ecc_pub.verify, s, bmsg)\n",
    "    tempos['ECC_ed25519'].append(t1 + t2)\n",
    "    memorias['ECC_ed25519'].append(m1 + m2)\n"
   ]
  },
  {
   "cell_type": "markdown",
   "id": "fee48f9f",
   "metadata": {},
   "source": [
    "plotando"
   ]
  },
  {
   "cell_type": "code",
   "execution_count": 47,
   "id": "09dd0ef7",
   "metadata": {},
   "outputs": [],
   "source": [
    "import matplotlib.pyplot as plt\n",
    "import numpy as np\n",
    "\n",
    "# Títulos das mensagens\n",
    "labels = list(messages.keys())\n",
    "x = np.arange(len(labels))\n",
    "bar_width = 0.15\n",
    "\n",
    "algoritmos = list(tempos.keys())"
   ]
  },
  {
   "cell_type": "code",
   "execution_count": 48,
   "id": "dfab91e8",
   "metadata": {},
   "outputs": [],
   "source": [
    "colors = plt.cm.tab20.colors[:len(algoritmos)]\n",
    "\n",
    "def plot_barras(metricas, ylabel, titulo):\n",
    "    fig, ax = plt.subplots(figsize=(12, 6))\n",
    "\n",
    "    for i, (alg, valores) in enumerate(metricas.items()):\n",
    "        valores = valores[:len(x)]  \n",
    "        y_vals = [valores[j] if j < len(valores) else 0 for j in range(len(x))]\n",
    "        bar_x = x + i * bar_width\n",
    "\n",
    "        bars = ax.bar(bar_x, y_vals, bar_width, label=alg, color=colors[i % len(colors)])\n",
    "\n",
    "        for rect in bars:\n",
    "            height = rect.get_height()\n",
    "            ax.annotate(f'{height:.3f}',\n",
    "                        xy=(rect.get_x() + rect.get_width() / 2, height),\n",
    "                        xytext=(0, 3), \n",
    "                        textcoords=\"offset points\",\n",
    "                        ha='center', va='bottom', fontsize=8)\n",
    "\n",
    "    \n",
    "    ax.set_ylabel(ylabel)\n",
    "    ax.set_title(titulo)\n",
    "    ax.set_xticks(x + bar_width * (len(algoritmos) - 1) / 2)\n",
    "    ax.set_xticklabels(labels)\n",
    "    ax.legend()\n",
    "    ax.grid(True)\n",
    "    plt.tight_layout()\n",
    "    plt.show()"
   ]
  },
  {
   "cell_type": "code",
   "execution_count": 49,
   "id": "1c23c2c5",
   "metadata": {},
   "outputs": [
    {
     "data": {
      "image/png": "[encoded data removed]",
      "text/plain": [
       "<Figure size 1200x600 with 1 Axes>"
      ]
     },
     "metadata": {},
     "output_type": "display_data"
    }
   ],
   "source": [
    "plot_barras(tempos, \"Tempo Total (s)\", \"Tempo de Criptografia + Descriptografia/Verificação\")"
   ]
  },
  {
   "cell_type": "code",
   "execution_count": 50,
   "id": "d340f602",
   "metadata": {},
   "outputs": [
    {
     "data": {
      "image/png": "[encoded data removed]",
      "text/plain": [
       "<Figure size 1200x600 with 1 Axes>"
      ]
     },
     "metadata": {},
     "output_type": "display_data"
    }
   ],
   "source": [
    "plot_barras(memorias, \"Uso de Memória Pico (KB)\", \"Consumo de Memória por Abordagem\")"
   ]
  }
 ],
 "metadata": {
  "kernelspec": {
   "display_name": ".venv",
   "language": "python",
   "name": "python3"
  },
  "language_info": {
   "codemirror_mode": {
    "name": "ipython",
    "version": 3
   },
   "file_extension": ".py",
   "mimetype": "text/x-python",
   "name": "python",
   "nbconvert_exporter": "python",
   "pygments_lexer": "ipython3",
   "version": "3.12.3"
  }
 },
 "nbformat": 4,
 "nbformat_minor": 5
}
