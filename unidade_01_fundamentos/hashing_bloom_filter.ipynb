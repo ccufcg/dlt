{
 "cells": [
  {
   "cell_type": "markdown",
   "id": "6af4d5ee",
   "metadata": {},
   "source": [
    "# Otimizando Consultas\n",
    "\n",
    "📌 **Contexto**\n",
    "\n",
    "Vocês foram contratados pela Amazon, e durante a entrevista de emprego, um problema importante foi levantado:\n",
    "\n",
    "🔍 **Descrição do Problema**\n",
    "A busca por produtos precisa ser rápida e eficiente, pois os usuários realizam consultas com alta frequência. Para garantir um desempenho satisfatório, essa busca deve rodar em múltiplos servidores.\n",
    "\n",
    "⚙️ **Infraestrutura disponível**:\n",
    "- Máquinas disponíveis: 200 servidores com 1GB de RAM e 10GB de armazenamento.\n",
    "- Número de produtos: 350 bilhões de itens cadastrados.\n",
    "\n",
    "📏 Se cada item ocupa 16 bytes de memória teriamos precisariamos de 5TB\n",
    "\n",
    "🎯 Tarefa a ser resolvida\n",
    "    O objetivo é desenvolver uma solução eficiente que permita verificar rapidamente se um item provavelmente está presente em um conjunto muito grande de dados, sem precisar armazenar todos os itens na memória.\n"
   ]
  },
  {
   "cell_type": "markdown",
   "id": "7f9fb57e",
   "metadata": {},
   "source": [
    "# Filtro de Bloom"
   ]
  },
  {
   "cell_type": "code",
   "execution_count": null,
   "id": "2bc549ca",
   "metadata": {},
   "outputs": [],
   "source": [
    "import hashlib\n",
    "import math\n",
    "import numpy as np"
   ]
  },
  {
   "cell_type": "markdown",
   "id": "dddbba49",
   "metadata": {},
   "source": [
    "### Estrutura do Filtro\n"
   ]
  },
  {
   "attachments": {
    "Bloom_filter.svg.png": {
     "image/png": "[encoded data removed]"
    }
   },
   "cell_type": "markdown",
   "id": "bb19508f",
   "metadata": {},
   "source": [
    "![Bloom_filter.svg.png](attachment:Bloom_filter.svg.png)\n",
    "\n",
    "1. Array de bits\n",
    "\n",
    "```python\n",
    "    np.zeros(size, dtype=bool)\n",
    "```\n",
    "\n",
    "2. Metodos\n",
    "    - Adicionar \n",
    "    - Buscar  (in)\n",
    "\n",
    "3. funçoes hash"
   ]
  },
  {
   "cell_type": "code",
   "execution_count": null,
   "id": "b74d5496",
   "metadata": {},
   "outputs": [],
   "source": [
    "class BloomFilter:\n",
    "    def __init__(self, size, hash_count, strategy):\n",
    "        self.size = size\n",
    "        self.hash_count = hash_count\n",
    "        self.bit_array = np.zeros(size, dtype=bool)\n",
    "        self.strategy = strategy\n",
    "\n",
    "    def add(self, item):\n",
    "        for index in self.strategy(item, self.size, self.hash_count):\n",
    "            self.bit_array[index] = True\n",
    "\n",
    "    def __contains__(self, item):\n",
    "        return all(self.bit_array[i] for i in self.strategy(item, self.size, self.hash_count))"
   ]
  },
  {
   "cell_type": "markdown",
   "id": "f34295d0",
   "metadata": {},
   "source": [
    "### Funções Hash\n",
    "\n",
    "Vamos utilizar funcoes bem conhecidas `md5` e `sha1`"
   ]
  },
  {
   "cell_type": "markdown",
   "id": "2f60a0ab",
   "metadata": {},
   "source": [
    "**Parâmetros `m` e `k` nas funções de hash do Filtro de Bloom**\n",
    "\n",
    "- **`m`**: Representa o tamanho do array de bits do filtro de Bloom. É a quantidade total de posições disponíveis para marcar a presença dos elementos. Um valor maior de `m` reduz a taxa de falsos positivos, mas consome mais memória.\n",
    "\n",
    "- **`k`**: Indica o número de funções hash utilizadas. Cada elemento inserido gera `k` posições diferentes no array de bits. Um valor adequado de `k` equilibra a chance de colisões e a eficiência do filtro.\n",
    "\n",
    "Esses parâmetros são essenciais para controlar a precisão e o uso de memória do filtro de Bloom."
   ]
  },
  {
   "cell_type": "code",
   "execution_count": null,
   "id": "5e940799",
   "metadata": {},
   "outputs": [],
   "source": [
    "def hash_md5_sha1(item, m, k):\n",
    "    hashes = []\n",
    "    for i in range(k):\n",
    "        h1 = int(hashlib.md5((item + str(i)).encode()).hexdigest(), 16)\n",
    "        h2 = int(hashlib.sha1((item + str(i)).encode()).hexdigest(), 16)\n",
    "        combined = (h1 + i * h2) % m\n",
    "        hashes.append(combined)\n",
    "    return hashes"
   ]
  },
  {
   "cell_type": "markdown",
   "id": "5cd96771",
   "metadata": {},
   "source": [
    "📌 **Atenção** :\n",
    "\n",
    "\n",
    "```python\n",
    "combined = (h1 + i * h2) % m\n",
    "```\n",
    "- h1 e h2 são _numéros_ de 128bits\n",
    "    - por isso a conversão `int(hashlib.md5((item + str(i)).encode()).hexdigest(), 16)`\n",
    "- Um número de 128bits certamente e bem maior que $m$\n",
    "    - por isso utilizamo o modulo `% m`, para que o resto da divisão seja utilizdo para mapear a função a posicao do array\n",
    "\n"
   ]
  },
  {
   "cell_type": "markdown",
   "id": "54e7b41d",
   "metadata": {},
   "source": [
    "### Testando o Filtro de Bloom,"
   ]
  },
  {
   "cell_type": "markdown",
   "id": "489bb860",
   "metadata": {},
   "source": [
    "Definimos os parametros\n",
    "- filtro de 20 bits\n",
    "- 4 funcoes hash"
   ]
  },
  {
   "cell_type": "code",
   "execution_count": null,
   "id": "b9b2ac09",
   "metadata": {},
   "outputs": [],
   "source": [
    "m=20\n",
    "k=4"
   ]
  },
  {
   "cell_type": "markdown",
   "id": "2f6f166a",
   "metadata": {},
   "source": [
    "Criando o filtro"
   ]
  },
  {
   "cell_type": "code",
   "execution_count": null,
   "id": "7d334424",
   "metadata": {},
   "outputs": [],
   "source": [
    "filtro = BloomFilter(m, k, strategy=hash_md5_sha1)"
   ]
  },
  {
   "cell_type": "code",
   "execution_count": null,
   "id": "9925acaa",
   "metadata": {},
   "outputs": [],
   "source": [
    "filtro.bit_array"
   ]
  },
  {
   "cell_type": "markdown",
   "id": "ddd3553b",
   "metadata": {},
   "source": [
    "**Inserindo e consultando elementos**"
   ]
  },
  {
   "cell_type": "code",
   "execution_count": null,
   "id": "7519c227",
   "metadata": {},
   "outputs": [],
   "source": [
    "words = [\"gato\", \"cachorro\", \"rato\" , \"capivara\"]\n",
    "for word in words:\n",
    "    filtro.add(word)"
   ]
  },
  {
   "cell_type": "code",
   "execution_count": null,
   "id": "a2f68b03",
   "metadata": {},
   "outputs": [],
   "source": [
    "print(\"gato\" in filtro)  \n",
    "print(\"cachorro\" in filtro)  \n",
    "print(\"leão\" in filtro)         # Provavelmente False\n",
    "print(\"rato\" in filtro)"
   ]
  },
  {
   "cell_type": "code",
   "execution_count": null,
   "id": "c8ea7cb3",
   "metadata": {},
   "outputs": [],
   "source": [
    "filtro.bit_array"
   ]
  },
  {
   "cell_type": "markdown",
   "id": "41849423",
   "metadata": {},
   "source": [
    "## Colisões e Falsos Positivos\n",
    "\n",
    "Como não armazenamos os dados, o filtro pode indicar que um item está presente quando não foi inserido (falso positivo)."
   ]
  },
  {
   "cell_type": "code",
   "execution_count": null,
   "id": "7fc23974",
   "metadata": {},
   "outputs": [],
   "source": [
    "words = [\"coruja\", \"macaco\" , \"morcego\" , \"cavalo\" , \"cobra\"]\n",
    "for word in words:\n",
    "    filtro.add(word)"
   ]
  },
  {
   "cell_type": "code",
   "execution_count": null,
   "id": "7facdac5",
   "metadata": {},
   "outputs": [],
   "source": [
    "test_word = \"tatu\"\n",
    "if test_word in filtro:\n",
    "    print(f\"'{test_word}' pode estar presente (falso positivo?)\")\n",
    "else:\n",
    "    print(f\"'{test_word}' certamente não está presente\")"
   ]
  },
  {
   "cell_type": "code",
   "execution_count": null,
   "id": "30f8a4ba",
   "metadata": {},
   "outputs": [],
   "source": [
    "test_word = \"elefante\"\n",
    "if test_word in filtro:\n",
    "    print(f\"'{test_word}' pode estar presente (falso positivo?)\")\n",
    "else:\n",
    "    print(f\"'{test_word}' certamente não está presente\")"
   ]
  },
  {
   "cell_type": "code",
   "execution_count": null,
   "id": "c6c66f4d",
   "metadata": {},
   "outputs": [],
   "source": [
    "print(filtro.bit_array)"
   ]
  },
  {
   "cell_type": "code",
   "execution_count": null,
   "id": "ef092a50",
   "metadata": {},
   "outputs": [],
   "source": [
    "hash_md5_sha1(\"elefante\",m,k)"
   ]
  },
  {
   "cell_type": "markdown",
   "id": "8490fc6f",
   "metadata": {},
   "source": [
    "## Diferentes Estratégia de hashing"
   ]
  },
  {
   "cell_type": "markdown",
   "id": "09b9d015",
   "metadata": {},
   "source": [
    "### Estratégia 2: Funções Hash Leves (não criptograficas)\n",
    "\n",
    "Duas funções hash não-criptográficas populares são `djb2` e `sdbm`. Elas são geralmente produzem uma boa distribuição, o que é importante para minimizar colisões e falsos positivos.\n",
    "\n",
    "Para gerar $k$ hashes a partir de apenas duas funções $hash$, usamos a técnica de Double Hashing. Se $h_1​(x)$ e $h_2​(x)$ são duas funções $hash$ independentes, então podemos gerar $k$ $hashes$ da seguinte forma:\n",
    "\n",
    "$$h_i​(x)=(h_1​(x)+i\\times h_2​(x)) \\text{ mod }m$$\n",
    "\n",
    "Onde $i$ varia de $0$ a $k−1$."
   ]
  },
  {
   "cell_type": "code",
   "execution_count": null,
   "id": "c6326345",
   "metadata": {},
   "outputs": [],
   "source": [
    "def djb2(s):\n",
    "    \"\"\"\n",
    "    Função hash djb2 \n",
    "    - Multiplica o hash por 33 e adiciona o valor ASCII do caractere\n",
    "    \"\"\"\n",
    "    hash_val = 5381\n",
    "    for char in s:\n",
    "        hash_val = ((hash_val << 5) + hash_val) + ord(char)\n",
    "    return hash_val\n",
    "\n",
    "def sdbm(s):\n",
    "    \"\"\"\n",
    "    Função hash sdbm\n",
    "    - Combina o caractere com o hash atual, usando shifts para espalhar os bits\n",
    "    \"\"\"\n",
    "    hash_val = 0\n",
    "    for char in s:\n",
    "        hash_val = ord(char) + (hash_val << 6) + (hash_val << 16) - hash_val\n",
    "    return hash_val"
   ]
  },
  {
   "cell_type": "markdown",
   "id": "74432c23",
   "metadata": {},
   "source": [
    "$$h_i​(x)=(h_1​(x)+i\\times h_2​(x)) \\text{ mod }m$$"
   ]
  },
  {
   "cell_type": "code",
   "execution_count": null,
   "id": "84c7f905",
   "metadata": {},
   "outputs": [],
   "source": [
    "def hash_e2(item, filter_size, num_hashes):\n",
    "    indices = []\n",
    "    s = str(item)\n",
    "    hash1 = djb2(s)\n",
    "    hash2 = sdbm(s)\n",
    "\n",
    "    for i in range(num_hashes):\n",
    "        combined_hash = (hash1 + i * hash2) % filter_size\n",
    "        indices.append(combined_hash)\n",
    "    return indices"
   ]
  },
  {
   "cell_type": "markdown",
   "id": "d7b5378f",
   "metadata": {},
   "source": [
    "### Estratégia 3: Usando xxhash\n",
    "\n",
    "`xxhash` é uma família de algoritmos hash não-criptográficos, com distribuição de bits. \n",
    "\n",
    "Assim como na Estratégia 2, usaremos a técnica de Double Hashing para gerar k hashes. Podemos obter dois hashes base (h1​ e h2​) usando o xxhash com diferentes seeds (sementes) para garantir que sejam independentes."
   ]
  },
  {
   "cell_type": "code",
   "execution_count": null,
   "id": "b5a0a53d",
   "metadata": {},
   "outputs": [],
   "source": [
    "# descomente para instalar\n",
    "# !pip install xxhash"
   ]
  },
  {
   "cell_type": "code",
   "execution_count": null,
   "id": "071d6ed7",
   "metadata": {},
   "outputs": [],
   "source": [
    "\n",
    "import xxhash \n",
    "\n",
    "def hash_xxhash(item, filter_size,num_hashes):\n",
    "    \"\"\"\n",
    "    Gera uma lista de 'num_hashes' índices hash usando xxhash (xxh3_64)\n",
    "    com a técnica de Double Hashing, utilizando seeds diferentes.\n",
    "    \"\"\"\n",
    "    indices = []\n",
    "    s = str(item).encode('utf-8') \n",
    "\n",
    "    # Gerar dois hashes base usando xxhash com seeds diferentes\n",
    "    # A escolha das seeds (0 e 1) é arbitrária, mas devem ser diferentes para h1 e h2\n",
    "    hash1 = xxhash.xxh3_64(s, seed=0).intdigest() # Converte o hash para um inteiro\n",
    "    hash2 = xxhash.xxh3_64(s, seed=1).intdigest()\n",
    "\n",
    "    for i in range(num_hashes):\n",
    "        hash_n = xxhash.xxh3_64(s, seed=i).intdigest()\n",
    "        indices.append((hash_n) % filter_size)\n",
    "    return indices"
   ]
  },
  {
   "cell_type": "code",
   "execution_count": null,
   "id": "7b915a2f",
   "metadata": {},
   "outputs": [],
   "source": [
    "\n",
    "h1 = hash_md5_sha1('elefante',m,k)\n",
    "h2 = hash_e2('elefante',m,k)\n",
    "h3 = hash_xxhash('elefante',m,k)\n",
    "\n",
    "print(f\" md5_sha1={h1}\\n e2={h2}\\n xxhash={h1}\\n\")"
   ]
  }
 ],
 "metadata": {
  "kernelspec": {
   "display_name": ".venv",
   "language": "python",
   "name": "python3"
  },
  "language_info": {
   "codemirror_mode": {
    "name": "ipython",
    "version": 3
   },
   "file_extension": ".py",
   "mimetype": "text/x-python",
   "name": "python",
   "nbconvert_exporter": "python",
   "pygments_lexer": "ipython3",
   "version": "3.12.3"
  }
 },
 "nbformat": 4,
 "nbformat_minor": 5
}
