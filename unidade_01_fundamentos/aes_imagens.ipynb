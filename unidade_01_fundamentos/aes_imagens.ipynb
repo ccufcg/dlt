{
 "cells": [
  {
   "cell_type": "markdown",
   "metadata": {},
   "source": [
    "# Criptografia com diferentes modos do AES: \n",
    "\n",
    "Neste notebook, vamos explorar como diferentes modos de operação do algoritmo AES (Advanced Encryption Standard) afetam a criptografia de imagens.\n",
    "\n",
    "Veremos na prática por que alguns modos são inadequados para certos tipos de dados e como escolher o modo correto para cada situação.\n",
    "\n",
    "- **AES-ECB**\n",
    "- **AES-CBC**\n",
    "- **AES-CTR**\n",
    "- **AES-GCM**\n"
   ]
  },
  {
   "cell_type": "markdown",
   "metadata": {},
   "source": [
    "## Bibliotecas"
   ]
  },
  {
   "cell_type": "code",
   "execution_count": null,
   "metadata": {},
   "outputs": [],
   "source": [
    "!pip install cryptography pillow requests numpy matplotlib"
   ]
  },
  {
   "cell_type": "code",
   "execution_count": null,
   "metadata": {},
   "outputs": [],
   "source": [
    "import requests\n",
    "from PIL import Image\n",
    "import numpy as np\n",
    "import matplotlib.pyplot as plt\n",
    "from cryptography.hazmat.primitives.ciphers import Cipher, algorithms, modes\n",
    "from cryptography.hazmat.primitives.ciphers.aead import AESGCM\n",
    "from cryptography.hazmat.backends import default_backend\n",
    "import os\n",
    "import io\n",
    "from typing import Tuple, Optional\n",
    "import hashlib\n",
    "import time"
   ]
  },
  {
   "cell_type": "markdown",
   "metadata": {},
   "source": [
    "## Metodos"
   ]
  },
  {
   "cell_type": "markdown",
   "metadata": {},
   "source": [
    "### Carregamento e Preparação da Imagem"
   ]
  },
  {
   "cell_type": "code",
   "execution_count": null,
   "metadata": {},
   "outputs": [],
   "source": [
    "def load_image_from_url(url: str) -> np.ndarray:\n",
    "\n",
    "    try:\n",
    "        response = requests.get(url)\n",
    "        response.raise_for_status()\n",
    "        \n",
    "        image = Image.open(io.BytesIO(response.content))\n",
    "        image = image.convert('RGB')\n",
    "        \n",
    "        if max(image.size) > 512:\n",
    "            image.thumbnail((512, 512), Image.Resampling.LANCZOS)\n",
    "        \n",
    "        return np.array(image)\n",
    "    \n",
    "    except Exception as e:\n",
    "        print(f\"Erro ao carregar imagem: {e}\")\n",
    "        return create_test_pattern()\n",
    "\n",
    "# Criar padrões que mostram bem os efeitos da criptografia (caso nao tenha url)\n",
    "def create_test_pattern() -> np.ndarray:\n",
    "    img = np.zeros((256, 256, 3), dtype=np.uint8)\n",
    "    \n",
    "    img[50:100, 50:100] = [255, 0, 0]  \n",
    "    img[150:200, 150:200] = [0, 255, 0]\n",
    "    img[100:150, 50:200] = [0, 0, 255]\n",
    "    \n",
    "    for i in range(0, 256, 20):\n",
    "        img[i:i+10, :] = [255, 255, 255]\n",
    "    \n",
    "    return img\n"
   ]
  },
  {
   "cell_type": "markdown",
   "metadata": {},
   "source": [
    "### Funções Auxiliares para Criptografia"
   ]
  },
  {
   "cell_type": "markdown",
   "metadata": {},
   "source": [
    "- Preparar dados para criptografia (padding)\n",
    "- Gerar chaves e IVs seguros\n",
    "- Medir performance das operações"
   ]
  },
  {
   "cell_type": "code",
   "execution_count": null,
   "metadata": {},
   "outputs": [],
   "source": [
    "def pad_data(data: bytes, block_size: int = 16) -> bytes:\n",
    "    \"\"\"\n",
    "    Aplica padding PKCS7 aos dados.\n",
    "    \n",
    "    O PKCS7 é essencial para modos como CBC que operam em blocos fixos.\n",
    "    Exemplo: se faltam 3 bytes para completar um bloco, adiciona 3 bytes com valor 3.\n",
    "    \"\"\"\n",
    "    padding_length = block_size - (len(data) % block_size)\n",
    "    padding = bytes([padding_length] * padding_length)\n",
    "    return data + padding\n",
    "\n",
    "def unpad_data(data: bytes) -> bytes:\n",
    "    \"\"\"\n",
    "    Remove padding PKCS7 dos dados descriptografados.\n",
    "    \"\"\"\n",
    "    if not data:\n",
    "        return data\n",
    "    padding_length = data[-1]\n",
    "    return data[:-padding_length]\n",
    "\n",
    "def generate_key() -> bytes:\n",
    "    \"\"\"\n",
    "    Gera uma chave AES-256 criptograficamente segura.\n",
    "    \"\"\"\n",
    "    return os.urandom(32)  # 256 bits\n",
    "\n",
    "def generate_iv() -> bytes:\n",
    "    \"\"\"\n",
    "    Gera um IV (Initialization Vector) aleatório.\n",
    "    \"\"\"\n",
    "    return os.urandom(16)  # 128 bits\n",
    "\n",
    "def image_to_bytes(image: np.ndarray) -> bytes:\n",
    "    \"\"\"\n",
    "    Converte imagem numpy para bytes.\n",
    "    \"\"\"\n",
    "    return image.tobytes()\n",
    "\n",
    "def bytes_to_image(data: bytes, shape: Tuple[int, int, int]) -> np.ndarray:\n",
    "    \"\"\"\n",
    "    Converte bytes de volta para imagem numpy.\n",
    "    \"\"\"\n",
    "    return np.frombuffer(data, dtype=np.uint8).reshape(shape)\n",
    "\n",
    "def measure_time(func):\n",
    "    \"\"\"\n",
    "    Decorator para medir tempo de execução.\n",
    "    \"\"\"\n",
    "    def wrapper(*args, **kwargs):\n",
    "        start_time = time.time()\n",
    "        result = func(*args, **kwargs)\n",
    "        end_time = time.time()\n",
    "        print(f\"{func.__name__} executado em {end_time - start_time:.4f} segundos\")\n",
    "        return result\n",
    "    return wrapper"
   ]
  },
  {
   "cell_type": "markdown",
   "metadata": {},
   "source": [
    "### Variaveis"
   ]
  },
  {
   "cell_type": "code",
   "execution_count": null,
   "metadata": {},
   "outputs": [],
   "source": [
    "image_url = 'https://static.wikia.nocookie.net/turma-do-kamil/images/5/53/A5f7322cdf21c4de36c7e2c48c926e4c433fe5e4_hq.jpg/revision/latest?cb=20240814003202&path-prefix=pt-br'"
   ]
  },
  {
   "cell_type": "code",
   "execution_count": null,
   "metadata": {},
   "outputs": [],
   "source": [
    "if not image_url.strip():\n",
    "    print(\"Usando padrão de teste...\")\n",
    "    original_image = create_test_pattern()\n",
    "else:\n",
    "    print(f\"Carregando imagem de: {image_url}\")\n",
    "    original_image = load_image_from_url(image_url)\n",
    "\n",
    "print(f\"Imagem carregada: {original_image.shape}\")\n",
    "\n",
    "# Mostrar imagem original\n",
    "plt.figure(figsize=(8, 6))\n",
    "plt.imshow(original_image)\n",
    "plt.title(\"Imagem Original\")\n",
    "plt.axis('off')\n",
    "plt.show()"
   ]
  },
  {
   "cell_type": "code",
   "execution_count": null,
   "metadata": {},
   "outputs": [],
   "source": [
    "master_key = generate_key()\n",
    "print(f\"Chave : {master_key.hex()}\")"
   ]
  },
  {
   "cell_type": "markdown",
   "metadata": {},
   "source": [
    "## Cenários"
   ]
  },
  {
   "cell_type": "markdown",
   "metadata": {},
   "source": [
    "### 🚨 AES-ECB"
   ]
  },
  {
   "cell_type": "markdown",
   "metadata": {},
   "source": [
    "🏥 **Sistema Hospitalar** :\n",
    "\n",
    "Imagine um hospital que usa ECB para criptografar imagens de raios-X. Mesmo criptografadas, um atacante poderia:\n",
    "- Identificar padrões anatômicos\n",
    "- Reconhecer tipos de fraturas\n",
    "- Comparar exames diferentes do mesmo paciente"
   ]
  },
  {
   "cell_type": "markdown",
   "metadata": {},
   "source": [
    "#### Metodos"
   ]
  },
  {
   "cell_type": "code",
   "execution_count": null,
   "metadata": {},
   "outputs": [],
   "source": [
    "@measure_time\n",
    "def encrypt_ecb(data: bytes, key: bytes) -> bytes:\n",
    "    # ECB requer padding pois opera em blocos fixos\n",
    "    padded_data = pad_data(data)\n",
    "    \n",
    "    cipher = Cipher(\n",
    "        algorithms.AES(key),\n",
    "        modes.ECB(),\n",
    "        backend=default_backend()\n",
    "    )\n",
    "    \n",
    "    encryptor = cipher.encryptor()\n",
    "    ciphertext = encryptor.update(padded_data) + encryptor.finalize()\n",
    "    \n",
    "    return ciphertext\n",
    "\n",
    "@measure_time\n",
    "def decrypt_ecb(ciphertext: bytes, key: bytes) -> bytes:\n",
    "    cipher = Cipher(\n",
    "        algorithms.AES(key),\n",
    "        modes.ECB(),\n",
    "        backend=default_backend()\n",
    "    )\n",
    "    \n",
    "    decryptor = cipher.decryptor()\n",
    "    padded_plaintext = decryptor.update(ciphertext) + decryptor.finalize()\n",
    "    \n",
    "    return unpad_data(padded_plaintext)"
   ]
  },
  {
   "cell_type": "markdown",
   "metadata": {},
   "source": [
    "#### Exemplo"
   ]
  },
  {
   "cell_type": "code",
   "execution_count": null,
   "metadata": {},
   "outputs": [],
   "source": [
    "# Converter imagem para bytes\n",
    "image_bytes = image_to_bytes(original_image)\n",
    "print(f\"Tamanho da imagem em bytes: {len(image_bytes)}\")\n",
    "\n",
    "# Criptografar com ECB\n",
    "ecb_encrypted = encrypt_ecb(image_bytes, master_key)"
   ]
  },
  {
   "cell_type": "code",
   "execution_count": null,
   "metadata": {},
   "outputs": [],
   "source": [
    "image_bytes[:64]"
   ]
  },
  {
   "cell_type": "code",
   "execution_count": null,
   "metadata": {},
   "outputs": [],
   "source": [
    "ecb_encrypted[:64]"
   ]
  },
  {
   "cell_type": "markdown",
   "metadata": {},
   "source": [
    "🔓 Descriptografando com AES-ECB..."
   ]
  },
  {
   "cell_type": "code",
   "execution_count": null,
   "metadata": {},
   "outputs": [],
   "source": [
    "ecb_decrypted = decrypt_ecb(ecb_encrypted, master_key)\n",
    "ecb_decrypted[:64]"
   ]
  },
  {
   "cell_type": "markdown",
   "metadata": {},
   "source": [
    "Reconstruir imagem criptografada"
   ]
  },
  {
   "cell_type": "code",
   "execution_count": null,
   "metadata": {},
   "outputs": [],
   "source": [
    "try:\n",
    "    ecb_encrypted_truncated = ecb_encrypted[:len(image_bytes)]\n",
    "    ecb_image_encrypted = bytes_to_image(ecb_encrypted_truncated, original_image.shape)\n",
    "    \n",
    "    ecb_image_decrypted = bytes_to_image(ecb_decrypted, original_image.shape)\n",
    "    \n",
    "    # Verificar se a descriptografia foi bem-sucedida\n",
    "    if np.array_equal(original_image, ecb_image_decrypted):\n",
    "        pass\n",
    "    else:\n",
    "        print(\"Erro na descriptografia ECB\")\n",
    "    \n",
    "except Exception as e:\n",
    "    print(f\"Erro na reconstrução: {e}\")\n",
    "    ecb_image_encrypted = original_image  # Fallback\n",
    "    ecb_image_decrypted = original_image\n",
    "\n",
    "# Visualizar resultados\n",
    "fig, axes = plt.subplots(1, 3, figsize=(15, 5))\n",
    "\n",
    "axes[0].imshow(original_image)\n",
    "axes[0].set_title(\"Original\")\n",
    "axes[0].axis('off')\n",
    "\n",
    "axes[1].imshow(ecb_image_encrypted)\n",
    "axes[1].set_title(\"AES-ECB Criptografado\\n(Padrões ainda visíveis!)\")\n",
    "axes[1].axis('off')\n",
    "\n",
    "axes[2].imshow(ecb_image_decrypted)\n",
    "axes[2].set_title(\"AES-ECB Descriptografado\")\n",
    "axes[2].axis('off')\n",
    "\n",
    "plt.tight_layout()\n",
    "plt.show()"
   ]
  },
  {
   "cell_type": "markdown",
   "metadata": {},
   "source": [
    "⚠️ ECB é Problemático:\n",
    "1. **Padrões visíveis**: Estruturas repetitivas permanecem visíveis\n",
    "2. **Análise estatística**: Blocos frequentes podem ser identificados\n",
    "3. **Ataques de replay**: Blocos podem ser reutilizados maliciosamente"
   ]
  },
  {
   "cell_type": "markdown",
   "metadata": {},
   "source": [
    "### AES-CBC: Adicionando Randomização"
   ]
  },
  {
   "cell_type": "markdown",
   "metadata": {},
   "source": [
    "🏢 Caso Prático - Backup Corporativo:\n",
    "Uma empresa precisa fazer backup de documentos confidenciais:\n",
    "- **Confidencialidade**: CBC esconde completamente os padrões\n",
    "- **Determinismo**: O mesmo documento sempre gera criptogramas diferentes (devido ao IV aleatório)\n",
    "- **Integridade**: Alterações em qualquer bloco afetam todos os blocos seguintes"
   ]
  },
  {
   "cell_type": "markdown",
   "metadata": {},
   "source": [
    "#### Metodos"
   ]
  },
  {
   "cell_type": "code",
   "execution_count": null,
   "metadata": {},
   "outputs": [],
   "source": [
    "@measure_time\n",
    "def encrypt_cbc(data: bytes, key: bytes, iv: Optional[bytes] = None) -> Tuple[bytes, bytes]:\n",
    "    if iv is None:\n",
    "        iv = generate_iv()\n",
    "    \n",
    "    # CBC requer padding\n",
    "    padded_data = pad_data(data)\n",
    "    \n",
    "    cipher = Cipher(\n",
    "        algorithms.AES(key),\n",
    "        modes.CBC(iv),\n",
    "        backend=default_backend()\n",
    "    )\n",
    "    \n",
    "    encryptor = cipher.encryptor()\n",
    "    ciphertext = encryptor.update(padded_data) + encryptor.finalize()\n",
    "    \n",
    "    return ciphertext, iv\n",
    "\n",
    "@measure_time\n",
    "def decrypt_cbc(ciphertext: bytes, key: bytes, iv: bytes) -> bytes:\n",
    "    cipher = Cipher(\n",
    "        algorithms.AES(key),\n",
    "        modes.CBC(iv),\n",
    "        backend=default_backend()\n",
    "    )\n",
    "    \n",
    "    decryptor = cipher.decryptor()\n",
    "    padded_plaintext = decryptor.update(ciphertext) + decryptor.finalize()\n",
    "    \n",
    "    return unpad_data(padded_plaintext)"
   ]
  },
  {
   "cell_type": "markdown",
   "metadata": {},
   "source": [
    "#### Exemplo"
   ]
  },
  {
   "cell_type": "code",
   "execution_count": null,
   "metadata": {},
   "outputs": [],
   "source": [
    "# Criptografar a mesma imagem duas vezes\n",
    "cbc_encrypted1, iv1 = encrypt_cbc(image_bytes, master_key)\n",
    "cbc_encrypted2, iv2 = encrypt_cbc(image_bytes, master_key)"
   ]
  },
  {
   "cell_type": "code",
   "execution_count": null,
   "metadata": {},
   "outputs": [],
   "source": [
    "print(f\"IV 1: {iv1.hex()[:16]}...\")\n",
    "print(f\"IV 2: {iv2.hex()[:16]}...\")\n",
    "print(f\"iv1 == iv2? {cbc_encrypted1 == cbc_encrypted2}\")"
   ]
  },
  {
   "cell_type": "code",
   "execution_count": null,
   "metadata": {},
   "outputs": [],
   "source": [
    "# Descriptografar ambos\n",
    "cbc_decrypted1 = decrypt_cbc(cbc_encrypted1, master_key, iv1)\n",
    "cbc_decrypted2 = decrypt_cbc(cbc_encrypted2, master_key, iv2)\n"
   ]
  },
  {
   "cell_type": "code",
   "execution_count": null,
   "metadata": {},
   "outputs": [],
   "source": [
    "# Verificar se ambas descriptografias estão corretas\n",
    "print(f\"Descriptografia 1 OK? {cbc_decrypted1 == image_bytes}\")\n",
    "print(f\"Descriptografia 2 OK? {cbc_decrypted2 == image_bytes}\")"
   ]
  },
  {
   "cell_type": "code",
   "execution_count": null,
   "metadata": {},
   "outputs": [],
   "source": [
    "# Visualizar uma das criptografias\n",
    "try:\n",
    "    cbc_encrypted_truncated = cbc_encrypted1[:len(image_bytes)]\n",
    "    cbc_image_encrypted = bytes_to_image(cbc_encrypted_truncated, original_image.shape)\n",
    "    cbc_image_decrypted = bytes_to_image(cbc_decrypted1, original_image.shape)\n",
    "    \n",
    "except Exception as e:\n",
    "    print(f\"Erro na reconstrução: {e}\")\n",
    "    cbc_image_encrypted = np.random.randint(0, 256, original_image.shape, dtype=np.uint8)\n",
    "    cbc_image_decrypted = original_image\n",
    "\n",
    "# Comparar ECB vs CBC\n",
    "fig, axes = plt.subplots(2, 3, figsize=(15, 10))\n",
    "\n",
    "# Linha 1: ECB\n",
    "axes[0,0].imshow(original_image)\n",
    "axes[0,0].set_title(\"Original\")\n",
    "axes[0,0].axis('off')\n",
    "\n",
    "axes[0,1].imshow(ecb_image_encrypted)\n",
    "axes[0,1].set_title(\"AES-ECB\\n(Padrões visíveis)\")\n",
    "axes[0,1].axis('off')\n",
    "\n",
    "axes[0,2].imshow(ecb_image_decrypted)\n",
    "axes[0,2].set_title(\"ECB Descriptografado\")\n",
    "axes[0,2].axis('off')\n",
    "\n",
    "# Linha 2: CBC\n",
    "axes[1,0].imshow(original_image)\n",
    "axes[1,0].set_title(\"Original\")\n",
    "axes[1,0].axis('off')\n",
    "\n",
    "axes[1,1].imshow(cbc_image_encrypted)\n",
    "axes[1,1].set_title(\"AES-CBC\\n(Completamente aleatório)\")\n",
    "axes[1,1].axis('off')\n",
    "\n",
    "axes[1,2].imshow(cbc_image_decrypted)\n",
    "axes[1,2].set_title(\"CBC Descriptografado\")\n",
    "axes[1,2].axis('off')\n",
    "\n",
    "plt.tight_layout()\n",
    "plt.show()"
   ]
  },
  {
   "cell_type": "markdown",
   "metadata": {},
   "source": [
    "\n",
    "Vantagens do CBC:\n",
    "1. **Sem padrões visíveis**: Dados idênticos produzem criptogramas diferentes\n",
    "2. **Propagação de erros**: Alterações se propagam, ajudando na detecção\n",
    "3. **Padrão da indústria**: Amplamente testado e confiável"
   ]
  },
  {
   "cell_type": "markdown",
   "metadata": {},
   "source": [
    "### AES-CTR: Modo de Fluxo"
   ]
  },
  {
   "cell_type": "markdown",
   "metadata": {},
   "source": [
    "📺 Caso Prático - Streaming de Vídeo:\n",
    "Uma plataforma de streaming precisa criptografar vídeos em tempo real:\n",
    "- **Paralelização**: Múltiplos blocos podem ser processados simultaneamente\n",
    "- **Acesso aleatório**: Pode pular para qualquer parte do vídeo sem descriptografar tudo\n",
    "- **Performance**: Mais rápido que CBC para grandes volumes de dados\n",
    "- **Sem padding**: Trabalha com qualquer tamanho de dados"
   ]
  },
  {
   "cell_type": "code",
   "execution_count": null,
   "metadata": {},
   "outputs": [],
   "source": [
    "@measure_time\n",
    "def encrypt_ctr(data: bytes, key: bytes, nonce: Optional[bytes] = None) -> Tuple[bytes, bytes]:\n",
    "    if nonce is None:\n",
    "        nonce = os.urandom(16)  # 128 bits\n",
    "    \n",
    "    # CTR não precisa de padding!\n",
    "    cipher = Cipher(\n",
    "        algorithms.AES(key),\n",
    "        modes.CTR(nonce),\n",
    "        backend=default_backend()\n",
    "    )\n",
    "    \n",
    "    encryptor = cipher.encryptor()\n",
    "    ciphertext = encryptor.update(data) + encryptor.finalize()\n",
    "    \n",
    "    return ciphertext, nonce\n",
    "\n",
    "@measure_time\n",
    "def decrypt_ctr(ciphertext: bytes, key: bytes, nonce: bytes) -> bytes:\n",
    "    cipher = Cipher(\n",
    "        algorithms.AES(key),\n",
    "        modes.CTR(nonce),\n",
    "        backend=default_backend()\n",
    "    )\n",
    "    \n",
    "    decryptor = cipher.decryptor()\n",
    "    plaintext = decryptor.update(ciphertext) + decryptor.finalize()\n",
    "    \n",
    "    return plaintext\n",
    "\n",
    "def demonstrate_ctr_random_access(data: bytes, key: bytes, nonce: bytes):\n",
    "    \n",
    "    # Criptografar dados completos\n",
    "    full_cipher = Cipher(algorithms.AES(key), modes.CTR(nonce), backend=default_backend())\n",
    "    full_encryptor = full_cipher.encryptor()\n",
    "    full_encrypted = full_encryptor.update(data) + full_encryptor.finalize()\n",
    "    \n",
    "    # Simular acesso a uma parte específica (por exemplo, do byte 1000 ao 2000)\n",
    "    start_pos = min(1000, len(data) // 2)\n",
    "    end_pos = min(2000, len(data))\n",
    "    \n",
    "    if start_pos < end_pos:\n",
    "        partial_encrypted = full_encrypted[start_pos:end_pos]\n",
    "        \n",
    "        print(f\"Acessando bytes {start_pos} a {end_pos} diretamente\")\n",
    "        print(f\"Tamanho da parte acessada: {len(partial_encrypted)} bytes\")\n"
   ]
  },
  {
   "cell_type": "markdown",
   "metadata": {},
   "source": [
    "#### Exemplo"
   ]
  },
  {
   "cell_type": "code",
   "execution_count": null,
   "metadata": {},
   "outputs": [],
   "source": [
    "# Criptografar com CTR\n",
    "ctr_encrypted, nonce = encrypt_ctr(image_bytes, master_key)"
   ]
  },
  {
   "cell_type": "code",
   "execution_count": null,
   "metadata": {},
   "outputs": [],
   "source": [
    "ctr_decrypted = decrypt_ctr(ctr_encrypted, master_key, nonce)"
   ]
  },
  {
   "cell_type": "code",
   "execution_count": null,
   "metadata": {},
   "outputs": [],
   "source": [
    "# Verificar integridade\n",
    "print(f\"CTR Descriptografia? {ctr_decrypted == image_bytes}\")\n",
    "print(f\"Tamanho original: {len(image_bytes)} bytes\")\n",
    "print(f\"Tamanho criptografado: {len(ctr_encrypted)} bytes (sem padding!)\")"
   ]
  },
  {
   "cell_type": "code",
   "execution_count": null,
   "metadata": {},
   "outputs": [],
   "source": [
    "# Demonstrar acesso aleatório\n",
    "demonstrate_ctr_random_access(image_bytes, master_key, nonce)"
   ]
  },
  {
   "cell_type": "code",
   "execution_count": null,
   "metadata": {},
   "outputs": [],
   "source": [
    "# Visualizar\n",
    "try:\n",
    "    ctr_image_encrypted = bytes_to_image(ctr_encrypted, original_image.shape)\n",
    "    ctr_image_decrypted = bytes_to_image(ctr_decrypted, original_image.shape)\n",
    "except Exception as e:\n",
    "    print(f\"Erro na reconstrução: {e}\")\n",
    "    ctr_image_encrypted = np.random.randint(0, 256, original_image.shape, dtype=np.uint8)\n",
    "    ctr_image_decrypted = original_image\n",
    "\n",
    "# Comparar todos os modos até agora\n",
    "fig, axes = plt.subplots(2, 4, figsize=(16, 8))\n",
    "\n",
    "# Linha 1: Originais\n",
    "axes[0,0].imshow(original_image)\n",
    "axes[0,0].set_title(\"Original\")\n",
    "axes[0,0].axis('off')\n",
    "\n",
    "axes[0,1].imshow(ecb_image_encrypted)\n",
    "axes[0,1].set_title(\"ECB\\n(Padrões visíveis)\")\n",
    "axes[0,1].axis('off')\n",
    "\n",
    "axes[0,2].imshow(cbc_image_encrypted)\n",
    "axes[0,2].set_title(\"CBC\\n(Aleatório)\")\n",
    "axes[0,2].axis('off')\n",
    "\n",
    "axes[0,3].imshow(ctr_image_encrypted)\n",
    "axes[0,3].set_title(\"CTR\\n(Aleatório + Eficiente)\")\n",
    "axes[0,3].axis('off')\n",
    "\n",
    "# Linha 2: Descriptografados\n",
    "axes[1,0].imshow(original_image)\n",
    "axes[1,0].set_title(\"Original\")\n",
    "axes[1,0].axis('off')\n",
    "\n",
    "axes[1,1].imshow(ecb_image_decrypted)\n",
    "axes[1,1].set_title(\"ECB Descriptografado\")\n",
    "axes[1,1].axis('off')\n",
    "\n",
    "axes[1,2].imshow(cbc_image_decrypted)\n",
    "axes[1,2].set_title(\"CBC Descriptografado\")\n",
    "axes[1,2].axis('off')\n",
    "\n",
    "axes[1,3].imshow(ctr_image_decrypted)\n",
    "axes[1,3].set_title(\"CTR Descriptografado\")\n",
    "axes[1,3].axis('off')\n",
    "\n",
    "plt.tight_layout()\n",
    "plt.show()"
   ]
  },
  {
   "cell_type": "markdown",
   "metadata": {},
   "source": [
    "Vantagens do CTR:\n",
    "1. **Paralelizável**: Blocos independentes permitem processamento paralelo\n",
    "2. **Sem padding**: Funciona com qualquer tamanho de dados\n",
    "3. **Acesso aleatório**: Pode descriptografar qualquer parte independentemente\n",
    "4. **Desempenho**: Melhor em hardware moderno"
   ]
  },
  {
   "cell_type": "markdown",
   "metadata": {},
   "source": [
    "### AES-GCM: Criptografia Autenticada\n",
    "\n"
   ]
  },
  {
   "cell_type": "markdown",
   "metadata": {},
   "source": [
    "🏥 Caso Prático - Prontuários Médicos:\n",
    "\n",
    "Um hospital precisa armazenar imagens médicas na nuvem:\n",
    "- **Confidencialidade**: Pacientes não podem ter dados vazados\n",
    "- **Integridade**: Alterações em exames podem ser fatais\n",
    "- **Autenticidade**: Precisa garantir que os dados vieram do hospital\n",
    "- **Compliance**: LGPD/HIPAA exigem controles rigorosos"
   ]
  },
  {
   "cell_type": "markdown",
   "metadata": {},
   "source": [
    "#### Metodos"
   ]
  },
  {
   "cell_type": "code",
   "execution_count": null,
   "metadata": {},
   "outputs": [],
   "source": [
    "@measure_time\n",
    "def encrypt_gcm(data: bytes, key: bytes, associated_data: Optional[bytes] = None) -> Tuple[bytes, bytes, bytes]:\n",
    "    # GCM usa nonce de 96 bits (12 bytes) por padrão\n",
    "    nonce = os.urandom(12)\n",
    "    \n",
    "    aesgcm = AESGCM(key)\n",
    "    \n",
    "    # O GCM retorna ciphertext + authentication tag combinados\n",
    "    ciphertext_with_tag = aesgcm.encrypt(nonce, data, associated_data)\n",
    "    \n",
    "    # Separar ciphertext do tag (últimos 16 bytes)\n",
    "    ciphertext = ciphertext_with_tag[:-16]\n",
    "    tag = ciphertext_with_tag[-16:]\n",
    "    \n",
    "    return ciphertext, nonce, tag\n",
    "\n",
    "@measure_time\n",
    "def decrypt_gcm(ciphertext: bytes, key: bytes, nonce: bytes, tag: bytes, associated_data: Optional[bytes] = None) -> bytes:\n",
    "    aesgcm = AESGCM(key)\n",
    "    \n",
    "    # Recombinar ciphertext + tag\n",
    "    ciphertext_with_tag = ciphertext + tag\n",
    "    \n",
    "    # Descriptografar e verificar autenticidade\n",
    "    plaintext = aesgcm.decrypt(nonce, ciphertext_with_tag, associated_data)\n",
    "    \n",
    "    return plaintext"
   ]
  },
  {
   "cell_type": "markdown",
   "metadata": {},
   "source": [
    "#### Exemplo"
   ]
  },
  {
   "cell_type": "markdown",
   "metadata": {},
   "source": [
    "Criptografando com AES-GCM (com metadados associados)..."
   ]
  },
  {
   "cell_type": "code",
   "execution_count": null,
   "metadata": {},
   "outputs": [],
   "source": [
    "metadata = f\"Paciente: João Silva, Data: 2024-01-15, Tipo: Raio-X, Tamanho: {len(image_bytes)}\".encode()\n",
    "\n",
    "print(f\"Metadados: {metadata.decode()}\")"
   ]
  },
  {
   "cell_type": "code",
   "execution_count": null,
   "metadata": {},
   "outputs": [],
   "source": [
    "gcm_encrypted, gcm_nonce, gcm_tag = encrypt_gcm(image_bytes, master_key, metadata)"
   ]
  },
  {
   "cell_type": "code",
   "execution_count": null,
   "metadata": {},
   "outputs": [],
   "source": [
    "len(gcm_encrypted), gcm_encrypted[:32]"
   ]
  },
  {
   "cell_type": "code",
   "execution_count": null,
   "metadata": {},
   "outputs": [],
   "source": [
    "print(f\"Nonce: {gcm_nonce.hex()}\")\n",
    "print(f\"Tag de autenticação: {gcm_tag.hex()}\")"
   ]
  },
  {
   "cell_type": "markdown",
   "metadata": {},
   "source": [
    " Descriptografando e verificando integridade..."
   ]
  },
  {
   "cell_type": "code",
   "execution_count": null,
   "metadata": {},
   "outputs": [],
   "source": [
    "try:\n",
    "    gcm_decrypted = decrypt_gcm(gcm_encrypted, master_key, gcm_nonce, gcm_tag, metadata)\n",
    "    print(f\" Arquivo Integro?: {gcm_decrypted == image_bytes}\")\n",
    "except Exception as e:\n",
    "    print(f\"Falha na verificação GCM: {e}\")\n",
    "    gcm_decrypted = image_bytes  # Fallback para visualização\n",
    "\n",
    "# Demonstrar detecção de integridade\n",
    "# demonstrate_gcm_integrity()"
   ]
  },
  {
   "cell_type": "markdown",
   "metadata": {},
   "source": [
    "**Simular alteração maliciosa nos dados**"
   ]
  },
  {
   "cell_type": "code",
   "execution_count": null,
   "metadata": {},
   "outputs": [],
   "source": [
    "# Alterar primeiro byte\n",
    "encrypted_modificado = bytearray(gcm_encrypted)\n",
    "encrypted_modificado[0] ^= 0xFF  "
   ]
  },
  {
   "cell_type": "code",
   "execution_count": null,
   "metadata": {},
   "outputs": [],
   "source": [
    "try:\n",
    "    decrypted = decrypt_gcm(bytes(encrypted_modificado), master_key, nonce, gcm_tag)\n",
    "    print(f\"FALHA DE SEGURANÇA: Alteração não detectada!\")\n",
    "except Exception as e:\n",
    "    print(f\"Alteração detectada com sucesso: {type(e).__name__}\")"
   ]
  },
  {
   "cell_type": "markdown",
   "metadata": {},
   "source": [
    "**Simular alteração no tag de autenticação**"
   ]
  },
  {
   "cell_type": "code",
   "execution_count": null,
   "metadata": {},
   "outputs": [],
   "source": [
    "tag_modificada = bytearray(gcm_tag)\n",
    "tag_modificada[0] ^= 0xFF\n",
    "\n",
    "try:\n",
    "    decrypted = decrypt_gcm(gcm_encrypted, master_key, nonce, bytes(tag_modificada))\n",
    "    print(f\"FALHA DE SEGURANÇA: Alteração do tag não detectada!\")\n",
    "except Exception as e:\n",
    "    print(f\"Alteração do tag detectada: {type(e).__name__}\")"
   ]
  },
  {
   "cell_type": "code",
   "execution_count": null,
   "metadata": {},
   "outputs": [],
   "source": [
    "# Visualizar\n",
    "try:\n",
    "    gcm_image_encrypted = bytes_to_image(gcm_encrypted, original_image.shape)\n",
    "    gcm_image_decrypted = bytes_to_image(gcm_decrypted, original_image.shape)\n",
    "except Exception as e:\n",
    "    print(f\"Erro na reconstrução: {e}\")\n",
    "    gcm_image_encrypted = np.random.randint(0, 256, original_image.shape, dtype=np.uint8)\n",
    "    gcm_image_decrypted = original_image\n",
    "\n",
    "# Visualização final: comparação de todos os modos\n",
    "fig, axes = plt.subplots(3, 5, figsize=(20, 12))\n",
    "\n",
    "modes = ['Original', 'ECB', 'CBC', 'CTR', 'GCM']\n",
    "encrypted_images = [original_image, ecb_image_encrypted, cbc_image_encrypted, ctr_image_encrypted, gcm_image_encrypted]\n",
    "decrypted_images = [original_image, ecb_image_decrypted, cbc_image_decrypted, ctr_image_decrypted, gcm_image_decrypted]\n",
    "\n",
    "# Linha 1: Imagem original repetida\n",
    "for i, mode in enumerate(modes):\n",
    "    axes[0,i].imshow(original_image)\n",
    "    axes[0,i].set_title(f\"Original\\n({mode})\")\n",
    "    axes[0,i].axis('off')\n",
    "\n",
    "# Linha 2: Imagens criptografadas\n",
    "for i, (mode, img) in enumerate(zip(modes, encrypted_images)):\n",
    "    axes[1,i].imshow(img)\n",
    "    if mode == 'Original':\n",
    "        axes[1,i].set_title(\"Original\")\n",
    "    elif mode == 'ECB':\n",
    "        axes[1,i].set_title(f\"{mode}\\n(Inseguro)\")\n",
    "    else:\n",
    "        axes[1,i].set_title(f\"{mode}\\n(Seguro)\")\n",
    "    axes[1,i].axis('off')\n",
    "\n",
    "# Linha 3: Imagens descriptografadas\n",
    "for i, (mode, img) in enumerate(zip(modes, decrypted_images)):\n",
    "    axes[2,i].imshow(img)\n",
    "    if mode == 'GCM':\n",
    "        axes[2,i].set_title(f\"{mode}\\n+ Integridade\")\n",
    "    else:\n",
    "        axes[2,i].set_title(f\"{mode}\\nDescriptografado\")\n",
    "    axes[2,i].axis('off')\n",
    "\n",
    "plt.tight_layout()\n",
    "plt.show()"
   ]
  },
  {
   "cell_type": "markdown",
   "metadata": {},
   "source": [
    "##  Análise Comparativa dos modos\n",
    "\n",
    "Vamos fazer uma análise quantitativa dos diferentes modos de operação"
   ]
  }
 ],
 "metadata": {
  "kernelspec": {
   "display_name": "Python 3",
   "language": "python",
   "name": "python3"
  },
  "language_info": {
   "codemirror_mode": {
    "name": "ipython",
    "version": 3
   },
   "file_extension": ".py",
   "mimetype": "text/x-python",
   "name": "python",
   "nbconvert_exporter": "python",
   "pygments_lexer": "ipython3",
   "version": "3.12.3"
  }
 },
 "nbformat": 4,
 "nbformat_minor": 4
}
