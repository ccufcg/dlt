{
 "cells": [
  {
   "cell_type": "markdown",
   "metadata": {},
   "source": [
    "# 🔐 Assinaturas Digitais com RSA e ECDSA\n",
    "\n",
    "Este notebook ilustra, na prática, como funcionam as assinaturas digitais com RSA e ECDSA.\n",
    "\n",
    "\n",
    "- Gerar pares de chaves (RSA e ECDSA)\n",
    "- Assinar mensagens\n",
    "- Verificar assinaturas\n",
    "- Ver o efeito de alterar mensagens ou assinaturas\n",
    "- Discutir casos de uso reais"
   ]
  },
  {
   "cell_type": "markdown",
   "metadata": {},
   "source": [
    "## 🛠️ Bibliotecas Necessárias\n"
   ]
  },
  {
   "cell_type": "code",
   "execution_count": null,
   "metadata": {},
   "outputs": [],
   "source": [
    "!pip install cryptography pycoin eth_keys\n",
    "# recuperação da chave pública a partir da assinatura\n",
    "!pip install eth_keys"
   ]
  },
  {
   "cell_type": "markdown",
   "metadata": {},
   "source": [
    "## 🔑 Geração de Chaves RSA e ECDSA"
   ]
  },
  {
   "cell_type": "code",
   "execution_count": null,
   "metadata": {},
   "outputs": [],
   "source": [
    "from cryptography.hazmat.primitives.asymmetric import rsa, ec\n",
    "from cryptography.hazmat.primitives import serialization, hashes\n",
    "from cryptography.hazmat.primitives.asymmetric import padding\n",
    "\n",
    "# Geração de chaves RSA\n",
    "rsa_private_key = rsa.generate_private_key(\n",
    "    public_exponent=65537,\n",
    "    key_size=2048\n",
    ")\n",
    "rsa_public_key = rsa_private_key.public_key()\n",
    "\n",
    "# Geração de chaves ECDSA\n",
    "ecdsa_private_key = ec.generate_private_key(ec.SECP256R1())\n",
    "ecdsa_public_key = ecdsa_private_key.public_key()\n",
    "\n",
    "print(\"Chaves geradas com sucesso!\")"
   ]
  },
  {
   "cell_type": "markdown",
   "id": "20b01f29",
   "metadata": {},
   "source": [
    "## 📧 Assinando menssagens curtas"
   ]
  },
  {
   "cell_type": "markdown",
   "id": "d20fca42",
   "metadata": {},
   "source": [
    "Como ja vistos nas aulas anteriores"
   ]
  },
  {
   "cell_type": "markdown",
   "metadata": {},
   "source": [
    "### ✍️ Assinando Mensagens"
   ]
  },
  {
   "cell_type": "code",
   "execution_count": null,
   "metadata": {},
   "outputs": [],
   "source": [
    "message = b\"Mensagem importante: Transferencia de R 10.000\"\n",
    "\n",
    "# Assinatura com RSA\n",
    "rsa_signature = rsa_private_key.sign(\n",
    "    message,\n",
    "    padding.PKCS1v15(),\n",
    "    hashes.SHA256()\n",
    ")\n",
    "\n",
    "# Assinatura com ECDSA\n",
    "ecdsa_signature = ecdsa_private_key.sign(\n",
    "    message,\n",
    "    ec.ECDSA(hashes.SHA256())\n",
    ")\n",
    "print(\"Mensagens assinadas com sucesso!\")"
   ]
  },
  {
   "cell_type": "markdown",
   "metadata": {},
   "source": [
    "### ✅ Verificando Assinaturas"
   ]
  },
  {
   "cell_type": "code",
   "execution_count": null,
   "metadata": {},
   "outputs": [],
   "source": [
    "# Verificação RSA\n",
    "try:\n",
    "    rsa_public_key.verify(\n",
    "        rsa_signature,\n",
    "        message,\n",
    "        padding.PKCS1v15(),\n",
    "        hashes.SHA256()\n",
    "    )\n",
    "    print(\"✅ Assinatura RSA válida!\")\n",
    "except Exception as e:\n",
    "    print(\"❌ Assinatura RSA inválida!\", str(e))\n",
    "\n",
    "# Verificação ECDSA\n",
    "try:\n",
    "    ecdsa_public_key.verify(\n",
    "        ecdsa_signature,\n",
    "        message,\n",
    "        ec.ECDSA(hashes.SHA256())\n",
    "    )\n",
    "    print(\"✅ Assinatura ECDSA válida!\")\n",
    "except Exception as e:\n",
    "    print(\"❌ Assinatura ECDSA inválida!\", str(e))"
   ]
  },
  {
   "cell_type": "markdown",
   "metadata": {},
   "source": [
    "### 🧪 Efeitos de Alterações\n",
    "Vamos modificar a mensagem e observar o impacto:"
   ]
  },
  {
   "cell_type": "code",
   "execution_count": null,
   "metadata": {},
   "outputs": [],
   "source": [
    "tampered_message = b\"Mensagem alterada: Transferencia de R 1.000\"\n",
    "\n",
    "# Teste com assinatura RSA\n",
    "try:\n",
    "    rsa_public_key.verify(\n",
    "        rsa_signature,\n",
    "        tampered_message,\n",
    "        padding.PKCS1v15(),\n",
    "        hashes.SHA256()\n",
    "    )\n",
    "    print(\"❌ Erro: Alteração não detectada (RSA)\")\n",
    "except:\n",
    "    print(\"✅ Alteração detectada (RSA)\")\n",
    "\n",
    "# Teste com assinatura ECDSA\n",
    "try:\n",
    "    ecdsa_public_key.verify(\n",
    "        ecdsa_signature,\n",
    "        tampered_message,\n",
    "        ec.ECDSA(hashes.SHA256())\n",
    "    )\n",
    "    print(\"❌ Erro: Alteração não detectada (ECDSA)\")\n",
    "except:\n",
    "    print(\"✅ Alteração detectada (ECDSA)\")"
   ]
  },
  {
   "cell_type": "markdown",
   "id": "3fc5e587",
   "metadata": {},
   "source": [
    "## 📄 Assinando um Arquivo PDF com RSA\n"
   ]
  },
  {
   "cell_type": "markdown",
   "id": "221f5917",
   "metadata": {},
   "source": [
    "Vamos calcular o hash de um arquivo PDF e assiná-lo digitalmente com a chave privada RSA."
   ]
  },
  {
   "cell_type": "code",
   "execution_count": null,
   "id": "3a0316dd",
   "metadata": {},
   "outputs": [],
   "source": [
    "import hashlib\n",
    "from pathlib import Path\n",
    "\n",
    "pdf_path = Path(\"exemplo.pdf\") \n",
    "\n",
    "if not pdf_path.exists():\n",
    "    with open(pdf_path, \"wb\") as f:\n",
    "        f.write(b\"Exemplo de conteudo para PDF.\")"
   ]
  },
  {
   "cell_type": "markdown",
   "id": "d53128ab",
   "metadata": {},
   "source": [
    "Ler conteúdo do PDF e gerar hash SHA-256\n"
   ]
  },
  {
   "cell_type": "code",
   "execution_count": null,
   "id": "2f66a590",
   "metadata": {},
   "outputs": [],
   "source": [
    "# Ler conteúdo do PDF e gerar hash SHA-256\n",
    "pdf_bytes = pdf_path.read_bytes()\n",
    "pdf_hash = hashlib.sha256(pdf_bytes).digest()\n",
    "print(f\"PDF com {len(pdf_bytes)} bytes\")\n",
    "print(f\"Hash SHA-256 do PDF: {pdf_hash.hex()}\")\n"
   ]
  },
  {
   "cell_type": "markdown",
   "id": "33a068ff",
   "metadata": {},
   "source": [
    "Assinar o hash com RSA"
   ]
  },
  {
   "cell_type": "code",
   "execution_count": null,
   "id": "da527f5f",
   "metadata": {},
   "outputs": [],
   "source": [
    "pdf_signature = rsa_private_key.sign(\n",
    "    pdf_hash,\n",
    "    padding.PKCS1v15(),\n",
    "    hashes.SHA256()\n",
    ")\n",
    "print(\"Assinatura digital do PDF criada com sucesso!\")\n",
    "print(f\"Assinatura digital do PDF: {pdf_signature.hex()}\")"
   ]
  },
  {
   "cell_type": "markdown",
   "id": "aebf0237",
   "metadata": {},
   "source": [
    "#### ✅ Verificando a Assinatura de um PDF"
   ]
  },
  {
   "cell_type": "code",
   "execution_count": null,
   "id": "df980337",
   "metadata": {},
   "outputs": [],
   "source": [
    "try:\n",
    "    rsa_public_key.verify(\n",
    "        pdf_signature,\n",
    "        pdf_hash,\n",
    "        padding.PKCS1v15(),\n",
    "        hashes.SHA256()\n",
    "    )\n",
    "    print(\"✅ Assinatura do PDF válida!\")\n",
    "except Exception as e:\n",
    "    print(\"❌ Assinatura do PDF inválida!\", str(e))"
   ]
  },
  {
   "cell_type": "markdown",
   "metadata": {},
   "source": [
    "## 🌐 Casos de Uso no Mundo Real"
   ]
  },
  {
   "cell_type": "markdown",
   "id": "5679844a",
   "metadata": {},
   "source": [
    "1. **Certificados HTTPS:** navegadores validam a autenticidade de sites com certificados assinados digitalmente.\n",
    "2. **Criptomoedas:** transações Bitcoin e Ethereum usam ECDSA para garantir que apenas o dono da chave gaste os fundos.\n",
    "3. **Documentos Eletrônicos:** Assinaturas digitais garantem validade jurídica em contratos eletrônicos."
   ]
  },
  {
   "cell_type": "markdown",
   "metadata": {},
   "source": [
    "## 🔍 Recuperação de Chave Pública a partir da Assinatura (ECDSA)\n",
    "Com ECDSA é possível recuperar a chave pública a partir da assinatura e da mensagem, desde que a assinatura esteja em formato estendido (r, s, v)."
   ]
  },
  {
   "cell_type": "code",
   "execution_count": null,
   "metadata": {},
   "outputs": [],
   "source": [
    "from eth_keys import keys\n",
    "from eth_utils import keccak\n",
    "import os"
   ]
  },
  {
   "cell_type": "markdown",
   "id": "4775db29",
   "metadata": {},
   "source": [
    "gerar as chaves ethereum"
   ]
  },
  {
   "cell_type": "code",
   "execution_count": null,
   "id": "b5199d5a",
   "metadata": {},
   "outputs": [],
   "source": [
    "priv_key_bytes = os.urandom(32)\n",
    "priv_key = keys.PrivateKey(priv_key_bytes)\n",
    "pub_key = priv_key.public_key\n",
    "pub_key"
   ]
  },
  {
   "cell_type": "markdown",
   "id": "74ed9975",
   "metadata": {},
   "source": [
    "assinando"
   ]
  },
  {
   "cell_type": "code",
   "execution_count": null,
   "id": "33e5a916",
   "metadata": {},
   "outputs": [],
   "source": [
    "msg = b'Mensagem para assinatura com recuperacao'\n",
    "msg_hash = keccak(msg) #hash \n",
    "signature = priv_key.sign_msg_hash(msg_hash)\n",
    "\n",
    "msg_hash , signature"
   ]
  },
  {
   "cell_type": "markdown",
   "id": "f8e07602",
   "metadata": {},
   "source": [
    "derivando a chave publica\n",
    "\n",
    "- é importante garantir que a assinatura seja válida e que o hash da mensagem seja o mesmo usado na assinatura."
   ]
  },
  {
   "cell_type": "code",
   "execution_count": null,
   "id": "c2bde505",
   "metadata": {},
   "outputs": [],
   "source": [
    "recovered_pub_key = signature.recover_public_key_from_msg_hash(msg_hash)\n",
    "recovered_pub_key"
   ]
  },
  {
   "cell_type": "markdown",
   "id": "1e19dd1c",
   "metadata": {},
   "source": [
    "⚠️ **Quando a derivação da chave pública é feita a partir da assinatura, pode ser util?**\n"
   ]
  },
  {
   "cell_type": "code",
   "execution_count": null,
   "id": "5b9c3952",
   "metadata": {},
   "outputs": [],
   "source": [
    "print(\"Chaves iguais?\", pub_key == recovered_pub_key)"
   ]
  },
  {
   "cell_type": "markdown",
   "metadata": {},
   "source": [
    "## 📈 Visualização da Curva Elíptica (secp256k1)\n",
    "\n",
    "visualizar uma parte da curva elíptica usada no ECDSA."
   ]
  },
  {
   "cell_type": "code",
   "execution_count": 65,
   "metadata": {},
   "outputs": [
    {
     "data": {
      "image/png": "[encoded data removed]",
      "text/plain": [
       "<Figure size 1000x500 with 1 Axes>"
      ]
     },
     "metadata": {},
     "output_type": "display_data"
    }
   ],
   "source": [
    "import matplotlib.pyplot as plt\n",
    "\n",
    "# Parâmetros da curva secp256k1\n",
    "p = 0xFFFFFFFFFFFFFFFFFFFFFFFFFFFFFFFFFFFFFFFFFFFFFFFFFFFFFFFEFFFFFC2F\n",
    "a = 0\n",
    "b = 7\n",
    "\n",
    "# Gerar pontos da curva\n",
    "x_vals = []\n",
    "y_vals = []\n",
    "\n",
    "# valores pequenos apenas para visualização\n",
    "# limite = 2^128\n",
    "limite = 1000\n",
    "for x in range(1, limite):  \n",
    "    rhs = (x**3 + a * x + b) % p\n",
    "    y = pow(rhs, (p + 1) // 4, p)\n",
    "    if (y * y) % p == rhs:\n",
    "        x_vals.append(x)\n",
    "        y_vals.append(y)\n",
    "\n",
    "plt.figure(figsize=(10, 5))\n",
    "plt.scatter(x_vals, y_vals, s=5, color='blue')\n",
    "plt.title(\"Visualização parcial da curva elíptica secp256k1\")\n",
    "plt.xlabel(\"x\")\n",
    "plt.ylabel(\"y\")\n",
    "plt.grid(True)\n",
    "plt.show()"
   ]
  },
  {
   "cell_type": "code",
   "execution_count": null,
   "id": "29630212",
   "metadata": {},
   "outputs": [],
   "source": []
  }
 ],
 "metadata": {
  "kernelspec": {
   "display_name": ".venv",
   "language": "python",
   "name": "python3"
  },
  "language_info": {
   "codemirror_mode": {
    "name": "ipython",
    "version": 3
   },
   "file_extension": ".py",
   "mimetype": "text/x-python",
   "name": "python",
   "nbconvert_exporter": "python",
   "pygments_lexer": "ipython3",
   "version": "3.12.3"
  }
 },
 "nbformat": 4,
 "nbformat_minor": 5
}
